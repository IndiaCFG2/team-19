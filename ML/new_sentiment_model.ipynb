{
 "cells": [
  {
   "cell_type": "code",
   "execution_count": 75,
   "metadata": {},
   "outputs": [],
   "source": [
    "import tensorflow as tf\n",
    "from tensorflow import keras\n",
    "\n",
    "# DataFrame\n",
    "import pandas as pd\n",
    "\n",
    "# Matplot\n",
    "import matplotlib.pyplot as plt\n",
    "%matplotlib inline\n",
    "\n",
    "# Scikit-learn\n",
    "from sklearn.model_selection import train_test_split\n",
    "from sklearn.preprocessing import LabelEncoder\n",
    "from sklearn.metrics import confusion_matrix, classification_report, accuracy_score\n",
    "from sklearn.manifold import TSNE\n",
    "from sklearn.feature_extraction.text import TfidfVectorizer\n",
    "\n",
    "# Keras\n",
    "from keras.preprocessing.text import Tokenizer\n",
    "from keras.preprocessing.sequence import pad_sequences\n",
    "from keras.models import Sequential\n",
    "from keras.layers import Activation, Dense, Dropout, Embedding, Flatten, Conv1D, MaxPooling1D, LSTM\n",
    "from keras import utils\n",
    "from keras.callbacks import ReduceLROnPlateau, EarlyStopping\n",
    "\n",
    "# nltk\n",
    "import nltk\n",
    "from nltk.corpus import stopwords\n",
    "from  nltk.stem import SnowballStemmer\n",
    "\n",
    "# Word2vec\n",
    "import gensim\n",
    "\n",
    "# Utility\n",
    "import re\n",
    "import numpy as np\n",
    "import os\n",
    "from collections import Counter\n",
    "import logging\n",
    "import time\n",
    "import pickle\n",
    "import itertools\n",
    "\n",
    "# Set log\n",
    "logging.basicConfig(format='%(asctime)s : %(levelname)s : %(message)s', level=logging.INFO)"
   ]
  },
  {
   "cell_type": "code",
   "execution_count": 4,
   "metadata": {},
   "outputs": [
    {
     "name": "stderr",
     "output_type": "stream",
     "text": [
      "[nltk_data] Downloading package stopwords to\n",
      "[nltk_data]     C:\\Users\\DHAIRYA\\AppData\\Roaming\\nltk_data...\n",
      "[nltk_data]   Package stopwords is already up-to-date!\n"
     ]
    },
    {
     "data": {
      "text/plain": [
       "True"
      ]
     },
     "execution_count": 4,
     "metadata": {},
     "output_type": "execute_result"
    }
   ],
   "source": [
    "nltk.download('stopwords')"
   ]
  },
  {
   "cell_type": "code",
   "execution_count": 44,
   "metadata": {},
   "outputs": [],
   "source": [
    "# DATASET\n",
    "DATASET_COLUMNS = [\"target\", \"ids\", \"date\", \"flag\", \"user\", \"text\"]\n",
    "DATASET_ENCODING = \"ISO-8859-1\"\n",
    "TRAIN_SIZE = 0.8\n",
    "\n",
    "# TEXT CLENAING\n",
    "TEXT_CLEANING_RE = \"@\\S+|https?:\\S+|http?:\\S|[^A-Za-z0-9]+\"\n",
    "\n",
    "# WORD2VEC \n",
    "W2V_SIZE = 300\n",
    "W2V_WINDOW = 7\n",
    "W2V_EPOCH = 32\n",
    "W2V_MIN_COUNT = 10\n",
    "\n",
    "# KERAS\n",
    "SEQUENCE_LENGTH = 300\n",
    "EPOCHS = 1\n",
    "BATCH_SIZE = 1024\n",
    "\n",
    "# SENTIMENT\n",
    "POSITIVE = \"POSITIVE\"\n",
    "NEGATIVE = \"NEGATIVE\"\n",
    "NEUTRAL = \"NEUTRAL\"\n",
    "SENTIMENT_THRESHOLDS = (0.4, 0.7)\n",
    "\n",
    "# EXPORT\n",
    "KERAS_MODEL = \"model.h5\"\n",
    "WORD2VEC_MODEL = \"model.w2v\"\n",
    "TOKENIZER_MODEL = \"tokenizer.pkl\"\n",
    "ENCODER_MODEL = \"encoder.pkl\""
   ]
  },
  {
   "cell_type": "code",
   "execution_count": 12,
   "metadata": {},
   "outputs": [],
   "source": [
    "df = pd.read_csv(\"training.csv\", encoding =DATASET_ENCODING , names=DATASET_COLUMNS)"
   ]
  },
  {
   "cell_type": "code",
   "execution_count": 13,
   "metadata": {},
   "outputs": [
    {
     "name": "stdout",
     "output_type": "stream",
     "text": [
      "Dataset size: 1600000\n"
     ]
    }
   ],
   "source": [
    "print(\"Dataset size:\", len(df))"
   ]
  },
  {
   "cell_type": "code",
   "execution_count": 14,
   "metadata": {},
   "outputs": [
    {
     "data": {
      "text/html": [
       "<div>\n",
       "<style scoped>\n",
       "    .dataframe tbody tr th:only-of-type {\n",
       "        vertical-align: middle;\n",
       "    }\n",
       "\n",
       "    .dataframe tbody tr th {\n",
       "        vertical-align: top;\n",
       "    }\n",
       "\n",
       "    .dataframe thead th {\n",
       "        text-align: right;\n",
       "    }\n",
       "</style>\n",
       "<table border=\"1\" class=\"dataframe\">\n",
       "  <thead>\n",
       "    <tr style=\"text-align: right;\">\n",
       "      <th></th>\n",
       "      <th>target</th>\n",
       "      <th>ids</th>\n",
       "      <th>date</th>\n",
       "      <th>flag</th>\n",
       "      <th>user</th>\n",
       "      <th>text</th>\n",
       "    </tr>\n",
       "  </thead>\n",
       "  <tbody>\n",
       "    <tr>\n",
       "      <th>0</th>\n",
       "      <td>0</td>\n",
       "      <td>1467810369</td>\n",
       "      <td>Mon Apr 06 22:19:45 PDT 2009</td>\n",
       "      <td>NO_QUERY</td>\n",
       "      <td>_TheSpecialOne_</td>\n",
       "      <td>@switchfoot http://twitpic.com/2y1zl - Awww, t...</td>\n",
       "    </tr>\n",
       "    <tr>\n",
       "      <th>1</th>\n",
       "      <td>0</td>\n",
       "      <td>1467810672</td>\n",
       "      <td>Mon Apr 06 22:19:49 PDT 2009</td>\n",
       "      <td>NO_QUERY</td>\n",
       "      <td>scotthamilton</td>\n",
       "      <td>is upset that he can't update his Facebook by ...</td>\n",
       "    </tr>\n",
       "    <tr>\n",
       "      <th>2</th>\n",
       "      <td>0</td>\n",
       "      <td>1467810917</td>\n",
       "      <td>Mon Apr 06 22:19:53 PDT 2009</td>\n",
       "      <td>NO_QUERY</td>\n",
       "      <td>mattycus</td>\n",
       "      <td>@Kenichan I dived many times for the ball. Man...</td>\n",
       "    </tr>\n",
       "    <tr>\n",
       "      <th>3</th>\n",
       "      <td>0</td>\n",
       "      <td>1467811184</td>\n",
       "      <td>Mon Apr 06 22:19:57 PDT 2009</td>\n",
       "      <td>NO_QUERY</td>\n",
       "      <td>ElleCTF</td>\n",
       "      <td>my whole body feels itchy and like its on fire</td>\n",
       "    </tr>\n",
       "    <tr>\n",
       "      <th>4</th>\n",
       "      <td>0</td>\n",
       "      <td>1467811193</td>\n",
       "      <td>Mon Apr 06 22:19:57 PDT 2009</td>\n",
       "      <td>NO_QUERY</td>\n",
       "      <td>Karoli</td>\n",
       "      <td>@nationwideclass no, it's not behaving at all....</td>\n",
       "    </tr>\n",
       "  </tbody>\n",
       "</table>\n",
       "</div>"
      ],
      "text/plain": [
       "   target         ids                          date      flag  \\\n",
       "0       0  1467810369  Mon Apr 06 22:19:45 PDT 2009  NO_QUERY   \n",
       "1       0  1467810672  Mon Apr 06 22:19:49 PDT 2009  NO_QUERY   \n",
       "2       0  1467810917  Mon Apr 06 22:19:53 PDT 2009  NO_QUERY   \n",
       "3       0  1467811184  Mon Apr 06 22:19:57 PDT 2009  NO_QUERY   \n",
       "4       0  1467811193  Mon Apr 06 22:19:57 PDT 2009  NO_QUERY   \n",
       "\n",
       "              user                                               text  \n",
       "0  _TheSpecialOne_  @switchfoot http://twitpic.com/2y1zl - Awww, t...  \n",
       "1    scotthamilton  is upset that he can't update his Facebook by ...  \n",
       "2         mattycus  @Kenichan I dived many times for the ball. Man...  \n",
       "3          ElleCTF    my whole body feels itchy and like its on fire   \n",
       "4           Karoli  @nationwideclass no, it's not behaving at all....  "
      ]
     },
     "execution_count": 14,
     "metadata": {},
     "output_type": "execute_result"
    }
   ],
   "source": [
    "df.head(5)"
   ]
  },
  {
   "cell_type": "code",
   "execution_count": 15,
   "metadata": {},
   "outputs": [],
   "source": [
    "decode_map = {0: \"NEGATIVE\", 2: \"NEUTRAL\", 4: \"POSITIVE\"}\n",
    "def decode_sentiment(label):\n",
    "    return decode_map[int(label)]"
   ]
  },
  {
   "cell_type": "code",
   "execution_count": 16,
   "metadata": {},
   "outputs": [
    {
     "name": "stdout",
     "output_type": "stream",
     "text": [
      "Wall time: 1.11 s\n"
     ]
    }
   ],
   "source": [
    "%%time\n",
    "df.target = df.target.apply(lambda x: decode_sentiment(x))"
   ]
  },
  {
   "cell_type": "code",
   "execution_count": 17,
   "metadata": {},
   "outputs": [
    {
     "data": {
      "text/plain": [
       "Text(0.5, 1.0, 'Dataset labels distribuition')"
      ]
     },
     "execution_count": 17,
     "metadata": {},
     "output_type": "execute_result"
    },
    {
     "data": {
      "image/png": "[encoded data removed]",
      "text/plain": [
       "<Figure size 1152x576 with 1 Axes>"
      ]
     },
     "metadata": {
      "needs_background": "light"
     },
     "output_type": "display_data"
    }
   ],
   "source": [
    "target_cnt = Counter(df.target)\n",
    "\n",
    "plt.figure(figsize=(16,8))\n",
    "plt.bar(target_cnt.keys(), target_cnt.values())\n",
    "plt.title(\"Dataset labels distribuition\")"
   ]
  },
  {
   "cell_type": "code",
   "execution_count": 18,
   "metadata": {},
   "outputs": [],
   "source": [
    "stop_words = stopwords.words(\"english\")\n",
    "stemmer = SnowballStemmer(\"english\")"
   ]
  },
  {
   "cell_type": "code",
   "execution_count": 19,
   "metadata": {},
   "outputs": [],
   "source": [
    "def preprocess(text, stem=False):\n",
    "    # Remove link,user and special characters\n",
    "    text = re.sub(TEXT_CLEANING_RE, ' ', str(text).lower()).strip()\n",
    "    tokens = []\n",
    "    for token in text.split():\n",
    "        if token not in stop_words:\n",
    "            if stem:\n",
    "                tokens.append(stemmer.stem(token))\n",
    "            else:\n",
    "                tokens.append(token)\n",
    "    return \" \".join(tokens)"
   ]
  },
  {
   "cell_type": "code",
   "execution_count": 20,
   "metadata": {},
   "outputs": [
    {
     "name": "stdout",
     "output_type": "stream",
     "text": [
      "Wall time: 1min 48s\n"
     ]
    }
   ],
   "source": [
    "%%time\n",
    "df.text = df.text.apply(lambda x: preprocess(x))"
   ]
  },
  {
   "cell_type": "code",
   "execution_count": 21,
   "metadata": {},
   "outputs": [
    {
     "name": "stdout",
     "output_type": "stream",
     "text": [
      "TRAIN size: 1280000\n",
      "TEST size: 320000\n"
     ]
    }
   ],
   "source": [
    "df_train, df_test = train_test_split(df, test_size=1-TRAIN_SIZE, random_state=42)\n",
    "print(\"TRAIN size:\", len(df_train))\n",
    "print(\"TEST size:\", len(df_test))"
   ]
  },
  {
   "cell_type": "code",
   "execution_count": 22,
   "metadata": {},
   "outputs": [
    {
     "name": "stdout",
     "output_type": "stream",
     "text": [
      "Wall time: 4.93 s\n"
     ]
    }
   ],
   "source": [
    "%%time\n",
    "documents = [_text.split() for _text in df_train.text] "
   ]
  },
  {
   "cell_type": "code",
   "execution_count": 23,
   "metadata": {},
   "outputs": [],
   "source": [
    "w2v_model = gensim.models.word2vec.Word2Vec(size=W2V_SIZE, \n",
    "                                            window=W2V_WINDOW, \n",
    "                                            min_count=W2V_MIN_COUNT, \n",
    "                                            workers=8)"
   ]
  },
  {
   "cell_type": "code",
   "execution_count": 24,
   "metadata": {},
   "outputs": [
    {
     "name": "stderr",
     "output_type": "stream",
     "text": [
      "2020-08-08 19:58:26,741 : INFO : collecting all words and their counts\n",
      "2020-08-08 19:58:26,743 : INFO : PROGRESS: at sentence #0, processed 0 words, keeping 0 word types\n",
      "2020-08-08 19:58:26,788 : INFO : PROGRESS: at sentence #10000, processed 72565 words, keeping 14005 word types\n",
      "2020-08-08 19:58:26,812 : INFO : PROGRESS: at sentence #20000, processed 144393 words, keeping 21587 word types\n",
      "2020-08-08 19:58:26,841 : INFO : PROGRESS: at sentence #30000, processed 215826 words, keeping 27541 word types\n",
      "2020-08-08 19:58:26,883 : INFO : PROGRESS: at sentence #40000, processed 288271 words, keeping 32764 word types\n",
      "2020-08-08 19:58:26,919 : INFO : PROGRESS: at sentence #50000, processed 359772 words, keeping 37587 word types\n",
      "2020-08-08 19:58:26,972 : INFO : PROGRESS: at sentence #60000, processed 431431 words, keeping 42198 word types\n",
      "2020-08-08 19:58:27,018 : INFO : PROGRESS: at sentence #70000, processed 503103 words, keeping 46458 word types\n",
      "2020-08-08 19:58:27,059 : INFO : PROGRESS: at sentence #80000, processed 575709 words, keeping 50476 word types\n",
      "2020-08-08 19:58:27,098 : INFO : PROGRESS: at sentence #90000, processed 647100 words, keeping 54140 word types\n",
      "2020-08-08 19:58:27,138 : INFO : PROGRESS: at sentence #100000, processed 718681 words, keeping 57777 word types\n",
      "2020-08-08 19:58:27,176 : INFO : PROGRESS: at sentence #110000, processed 790696 words, keeping 61207 word types\n",
      "2020-08-08 19:58:27,219 : INFO : PROGRESS: at sentence #120000, processed 863134 words, keeping 64583 word types\n",
      "2020-08-08 19:58:27,265 : INFO : PROGRESS: at sentence #130000, processed 935111 words, keeping 67865 word types\n",
      "2020-08-08 19:58:27,308 : INFO : PROGRESS: at sentence #140000, processed 1006668 words, keeping 70966 word types\n",
      "2020-08-08 19:58:27,354 : INFO : PROGRESS: at sentence #150000, processed 1078512 words, keeping 74119 word types\n",
      "2020-08-08 19:58:27,392 : INFO : PROGRESS: at sentence #160000, processed 1149914 words, keeping 77187 word types\n",
      "2020-08-08 19:58:27,440 : INFO : PROGRESS: at sentence #170000, processed 1222145 words, keeping 80267 word types\n",
      "2020-08-08 19:58:27,487 : INFO : PROGRESS: at sentence #180000, processed 1294708 words, keeping 83393 word types\n",
      "2020-08-08 19:58:27,529 : INFO : PROGRESS: at sentence #190000, processed 1367608 words, keeping 86329 word types\n",
      "2020-08-08 19:58:27,571 : INFO : PROGRESS: at sentence #200000, processed 1439469 words, keeping 89103 word types\n",
      "2020-08-08 19:58:27,614 : INFO : PROGRESS: at sentence #210000, processed 1512099 words, keeping 91840 word types\n",
      "2020-08-08 19:58:27,650 : INFO : PROGRESS: at sentence #220000, processed 1584149 words, keeping 94636 word types\n",
      "2020-08-08 19:58:27,694 : INFO : PROGRESS: at sentence #230000, processed 1656354 words, keeping 97353 word types\n",
      "2020-08-08 19:58:27,762 : INFO : PROGRESS: at sentence #240000, processed 1728573 words, keeping 99975 word types\n",
      "2020-08-08 19:58:27,851 : INFO : PROGRESS: at sentence #250000, processed 1801102 words, keeping 102594 word types\n",
      "2020-08-08 19:58:27,930 : INFO : PROGRESS: at sentence #260000, processed 1873103 words, keeping 105162 word types\n",
      "2020-08-08 19:58:28,005 : INFO : PROGRESS: at sentence #270000, processed 1945245 words, keeping 107626 word types\n",
      "2020-08-08 19:58:28,073 : INFO : PROGRESS: at sentence #280000, processed 2017163 words, keeping 110141 word types\n",
      "2020-08-08 19:58:28,137 : INFO : PROGRESS: at sentence #290000, processed 2089574 words, keeping 112539 word types\n",
      "2020-08-08 19:58:28,199 : INFO : PROGRESS: at sentence #300000, processed 2160996 words, keeping 114893 word types\n",
      "2020-08-08 19:58:28,269 : INFO : PROGRESS: at sentence #310000, processed 2232913 words, keeping 117298 word types\n",
      "2020-08-08 19:58:28,329 : INFO : PROGRESS: at sentence #320000, processed 2305039 words, keeping 119693 word types\n",
      "2020-08-08 19:58:28,382 : INFO : PROGRESS: at sentence #330000, processed 2377119 words, keeping 122131 word types\n",
      "2020-08-08 19:58:28,441 : INFO : PROGRESS: at sentence #340000, processed 2449370 words, keeping 124416 word types\n",
      "2020-08-08 19:58:28,507 : INFO : PROGRESS: at sentence #350000, processed 2521564 words, keeping 126669 word types\n",
      "2020-08-08 19:58:28,575 : INFO : PROGRESS: at sentence #360000, processed 2593681 words, keeping 128912 word types\n",
      "2020-08-08 19:58:28,652 : INFO : PROGRESS: at sentence #370000, processed 2665692 words, keeping 131135 word types\n",
      "2020-08-08 19:58:28,730 : INFO : PROGRESS: at sentence #380000, processed 2737859 words, keeping 133403 word types\n",
      "2020-08-08 19:58:28,792 : INFO : PROGRESS: at sentence #390000, processed 2809848 words, keeping 135551 word types\n",
      "2020-08-08 19:58:28,848 : INFO : PROGRESS: at sentence #400000, processed 2882438 words, keeping 137742 word types\n",
      "2020-08-08 19:58:28,903 : INFO : PROGRESS: at sentence #410000, processed 2954075 words, keeping 139909 word types\n",
      "2020-08-08 19:58:28,956 : INFO : PROGRESS: at sentence #420000, processed 3026247 words, keeping 142144 word types\n",
      "2020-08-08 19:58:29,011 : INFO : PROGRESS: at sentence #430000, processed 3098659 words, keeping 144364 word types\n",
      "2020-08-08 19:58:29,106 : INFO : PROGRESS: at sentence #440000, processed 3170663 words, keeping 146439 word types\n",
      "2020-08-08 19:58:29,163 : INFO : PROGRESS: at sentence #450000, processed 3243344 words, keeping 148526 word types\n",
      "2020-08-08 19:58:29,216 : INFO : PROGRESS: at sentence #460000, processed 3315466 words, keeping 150610 word types\n",
      "2020-08-08 19:58:29,272 : INFO : PROGRESS: at sentence #470000, processed 3388295 words, keeping 152737 word types\n",
      "2020-08-08 19:58:29,313 : INFO : PROGRESS: at sentence #480000, processed 3460120 words, keeping 154757 word types\n",
      "2020-08-08 19:58:29,369 : INFO : PROGRESS: at sentence #490000, processed 3531883 words, keeping 156825 word types\n",
      "2020-08-08 19:58:29,429 : INFO : PROGRESS: at sentence #500000, processed 3604217 words, keeping 158859 word types\n",
      "2020-08-08 19:58:29,493 : INFO : PROGRESS: at sentence #510000, processed 3676427 words, keeping 160852 word types\n",
      "2020-08-08 19:58:29,573 : INFO : PROGRESS: at sentence #520000, processed 3749045 words, keeping 162863 word types\n",
      "2020-08-08 19:58:29,645 : INFO : PROGRESS: at sentence #530000, processed 3821622 words, keeping 164929 word types\n",
      "2020-08-08 19:58:29,699 : INFO : PROGRESS: at sentence #540000, processed 3893627 words, keeping 166840 word types\n",
      "2020-08-08 19:58:29,746 : INFO : PROGRESS: at sentence #550000, processed 3965477 words, keeping 168799 word types\n",
      "2020-08-08 19:58:29,814 : INFO : PROGRESS: at sentence #560000, processed 4038050 words, keeping 170802 word types\n",
      "2020-08-08 19:58:29,876 : INFO : PROGRESS: at sentence #570000, processed 4110296 words, keeping 172760 word types\n",
      "2020-08-08 19:58:29,931 : INFO : PROGRESS: at sentence #580000, processed 4182385 words, keeping 174635 word types\n",
      "2020-08-08 19:58:30,003 : INFO : PROGRESS: at sentence #590000, processed 4254632 words, keeping 176470 word types\n",
      "2020-08-08 19:58:30,057 : INFO : PROGRESS: at sentence #600000, processed 4326859 words, keeping 178350 word types\n",
      "2020-08-08 19:58:30,114 : INFO : PROGRESS: at sentence #610000, processed 4399183 words, keeping 180290 word types\n",
      "2020-08-08 19:58:30,166 : INFO : PROGRESS: at sentence #620000, processed 4471343 words, keeping 182129 word types\n",
      "2020-08-08 19:58:30,222 : INFO : PROGRESS: at sentence #630000, processed 4543286 words, keeping 184005 word types\n",
      "2020-08-08 19:58:30,277 : INFO : PROGRESS: at sentence #640000, processed 4615780 words, keeping 185835 word types\n",
      "2020-08-08 19:58:30,331 : INFO : PROGRESS: at sentence #650000, processed 4688481 words, keeping 187705 word types\n",
      "2020-08-08 19:58:30,383 : INFO : PROGRESS: at sentence #660000, processed 4760481 words, keeping 189439 word types\n",
      "2020-08-08 19:58:30,438 : INFO : PROGRESS: at sentence #670000, processed 4833024 words, keeping 191232 word types\n",
      "2020-08-08 19:58:30,493 : INFO : PROGRESS: at sentence #680000, processed 4904516 words, keeping 193177 word types\n",
      "2020-08-08 19:58:30,554 : INFO : PROGRESS: at sentence #690000, processed 4976968 words, keeping 194960 word types\n",
      "2020-08-08 19:58:30,605 : INFO : PROGRESS: at sentence #700000, processed 5049412 words, keeping 196725 word types\n",
      "2020-08-08 19:58:30,654 : INFO : PROGRESS: at sentence #710000, processed 5121976 words, keeping 198516 word types\n"
     ]
    },
    {
     "name": "stderr",
     "output_type": "stream",
     "text": [
      "2020-08-08 19:58:30,703 : INFO : PROGRESS: at sentence #720000, processed 5193881 words, keeping 200325 word types\n",
      "2020-08-08 19:58:30,755 : INFO : PROGRESS: at sentence #730000, processed 5265467 words, keeping 202133 word types\n",
      "2020-08-08 19:58:30,804 : INFO : PROGRESS: at sentence #740000, processed 5337518 words, keeping 203818 word types\n",
      "2020-08-08 19:58:30,851 : INFO : PROGRESS: at sentence #750000, processed 5409321 words, keeping 205535 word types\n",
      "2020-08-08 19:58:30,896 : INFO : PROGRESS: at sentence #760000, processed 5481512 words, keeping 207282 word types\n",
      "2020-08-08 19:58:30,944 : INFO : PROGRESS: at sentence #770000, processed 5554093 words, keeping 209076 word types\n",
      "2020-08-08 19:58:30,993 : INFO : PROGRESS: at sentence #780000, processed 5625382 words, keeping 210805 word types\n",
      "2020-08-08 19:58:31,038 : INFO : PROGRESS: at sentence #790000, processed 5698066 words, keeping 212618 word types\n",
      "2020-08-08 19:58:31,096 : INFO : PROGRESS: at sentence #800000, processed 5770880 words, keeping 214374 word types\n",
      "2020-08-08 19:58:31,148 : INFO : PROGRESS: at sentence #810000, processed 5843418 words, keeping 216009 word types\n",
      "2020-08-08 19:58:31,205 : INFO : PROGRESS: at sentence #820000, processed 5915628 words, keeping 217804 word types\n",
      "2020-08-08 19:58:31,259 : INFO : PROGRESS: at sentence #830000, processed 5987499 words, keeping 219585 word types\n",
      "2020-08-08 19:58:31,329 : INFO : PROGRESS: at sentence #840000, processed 6058973 words, keeping 221344 word types\n",
      "2020-08-08 19:58:31,388 : INFO : PROGRESS: at sentence #850000, processed 6131125 words, keeping 223002 word types\n",
      "2020-08-08 19:58:31,445 : INFO : PROGRESS: at sentence #860000, processed 6202951 words, keeping 224643 word types\n",
      "2020-08-08 19:58:31,493 : INFO : PROGRESS: at sentence #870000, processed 6275461 words, keeping 226362 word types\n",
      "2020-08-08 19:58:31,537 : INFO : PROGRESS: at sentence #880000, processed 6347661 words, keeping 227986 word types\n",
      "2020-08-08 19:58:31,581 : INFO : PROGRESS: at sentence #890000, processed 6419806 words, keeping 229634 word types\n",
      "2020-08-08 19:58:31,632 : INFO : PROGRESS: at sentence #900000, processed 6491644 words, keeping 231389 word types\n",
      "2020-08-08 19:58:31,678 : INFO : PROGRESS: at sentence #910000, processed 6564022 words, keeping 233050 word types\n",
      "2020-08-08 19:58:31,712 : INFO : PROGRESS: at sentence #920000, processed 6636228 words, keeping 234686 word types\n",
      "2020-08-08 19:58:31,772 : INFO : PROGRESS: at sentence #930000, processed 6708573 words, keeping 236393 word types\n",
      "2020-08-08 19:58:31,828 : INFO : PROGRESS: at sentence #940000, processed 6779956 words, keeping 238052 word types\n",
      "2020-08-08 19:58:31,876 : INFO : PROGRESS: at sentence #950000, processed 6852599 words, keeping 239716 word types\n",
      "2020-08-08 19:58:31,918 : INFO : PROGRESS: at sentence #960000, processed 6924717 words, keeping 241354 word types\n",
      "2020-08-08 19:58:31,976 : INFO : PROGRESS: at sentence #970000, processed 6996992 words, keeping 242980 word types\n",
      "2020-08-08 19:58:32,031 : INFO : PROGRESS: at sentence #980000, processed 7068402 words, keeping 244646 word types\n",
      "2020-08-08 19:58:32,102 : INFO : PROGRESS: at sentence #990000, processed 7140346 words, keeping 246186 word types\n",
      "2020-08-08 19:58:32,178 : INFO : PROGRESS: at sentence #1000000, processed 7211757 words, keeping 247726 word types\n",
      "2020-08-08 19:58:32,232 : INFO : PROGRESS: at sentence #1010000, processed 7283267 words, keeping 249288 word types\n",
      "2020-08-08 19:58:32,288 : INFO : PROGRESS: at sentence #1020000, processed 7355299 words, keeping 250860 word types\n",
      "2020-08-08 19:58:32,338 : INFO : PROGRESS: at sentence #1030000, processed 7426918 words, keeping 252366 word types\n",
      "2020-08-08 19:58:32,389 : INFO : PROGRESS: at sentence #1040000, processed 7498815 words, keeping 253930 word types\n",
      "2020-08-08 19:58:32,434 : INFO : PROGRESS: at sentence #1050000, processed 7570499 words, keeping 255471 word types\n",
      "2020-08-08 19:58:32,481 : INFO : PROGRESS: at sentence #1060000, processed 7643251 words, keeping 257035 word types\n",
      "2020-08-08 19:58:32,525 : INFO : PROGRESS: at sentence #1070000, processed 7714721 words, keeping 258509 word types\n",
      "2020-08-08 19:58:32,570 : INFO : PROGRESS: at sentence #1080000, processed 7787371 words, keeping 260071 word types\n",
      "2020-08-08 19:58:32,620 : INFO : PROGRESS: at sentence #1090000, processed 7859336 words, keeping 261683 word types\n",
      "2020-08-08 19:58:32,655 : INFO : PROGRESS: at sentence #1100000, processed 7932029 words, keeping 263278 word types\n",
      "2020-08-08 19:58:32,695 : INFO : PROGRESS: at sentence #1110000, processed 8004146 words, keeping 264800 word types\n",
      "2020-08-08 19:58:32,734 : INFO : PROGRESS: at sentence #1120000, processed 8075880 words, keeping 266309 word types\n",
      "2020-08-08 19:58:32,777 : INFO : PROGRESS: at sentence #1130000, processed 8148163 words, keeping 267826 word types\n",
      "2020-08-08 19:58:32,816 : INFO : PROGRESS: at sentence #1140000, processed 8220487 words, keeping 269391 word types\n",
      "2020-08-08 19:58:32,855 : INFO : PROGRESS: at sentence #1150000, processed 8292498 words, keeping 270894 word types\n",
      "2020-08-08 19:58:32,905 : INFO : PROGRESS: at sentence #1160000, processed 8363838 words, keeping 272400 word types\n",
      "2020-08-08 19:58:32,956 : INFO : PROGRESS: at sentence #1170000, processed 8435510 words, keeping 273970 word types\n",
      "2020-08-08 19:58:33,004 : INFO : PROGRESS: at sentence #1180000, processed 8507795 words, keeping 275521 word types\n",
      "2020-08-08 19:58:33,059 : INFO : PROGRESS: at sentence #1190000, processed 8579080 words, keeping 277007 word types\n",
      "2020-08-08 19:58:33,101 : INFO : PROGRESS: at sentence #1200000, processed 8650606 words, keeping 278457 word types\n",
      "2020-08-08 19:58:33,152 : INFO : PROGRESS: at sentence #1210000, processed 8721893 words, keeping 279959 word types\n",
      "2020-08-08 19:58:33,206 : INFO : PROGRESS: at sentence #1220000, processed 8793795 words, keeping 281427 word types\n",
      "2020-08-08 19:58:33,255 : INFO : PROGRESS: at sentence #1230000, processed 8865726 words, keeping 282981 word types\n",
      "2020-08-08 19:58:33,302 : INFO : PROGRESS: at sentence #1240000, processed 8938173 words, keeping 284542 word types\n",
      "2020-08-08 19:58:33,340 : INFO : PROGRESS: at sentence #1250000, processed 9010842 words, keeping 286064 word types\n",
      "2020-08-08 19:58:33,379 : INFO : PROGRESS: at sentence #1260000, processed 9083261 words, keeping 287521 word types\n",
      "2020-08-08 19:58:33,426 : INFO : PROGRESS: at sentence #1270000, processed 9155616 words, keeping 288987 word types\n",
      "2020-08-08 19:58:33,472 : INFO : collected 290418 word types from a corpus of 9227204 raw words and 1280000 sentences\n",
      "2020-08-08 19:58:33,474 : INFO : Loading a fresh vocabulary\n",
      "2020-08-08 19:58:33,843 : INFO : effective_min_count=10 retains 30369 unique words (10% of original 290418, drops 260049)\n",
      "2020-08-08 19:58:33,845 : INFO : effective_min_count=10 leaves 8780739 word corpus (95% of original 9227204, drops 446465)\n",
      "2020-08-08 19:58:34,046 : INFO : deleting the raw counts dictionary of 290418 items\n",
      "2020-08-08 19:58:34,058 : INFO : sample=0.001 downsamples 45 most-common words\n",
      "2020-08-08 19:58:34,059 : INFO : downsampling leaves estimated 8222658 word corpus (93.6% of prior 8780739)\n",
      "2020-08-08 19:58:34,244 : INFO : estimated required memory for 30369 words and 300 dimensions: 88070100 bytes\n",
      "2020-08-08 19:58:34,246 : INFO : resetting layer weights\n"
     ]
    }
   ],
   "source": [
    "w2v_model.build_vocab(documents)"
   ]
  },
  {
   "cell_type": "code",
   "execution_count": 25,
   "metadata": {},
   "outputs": [
    {
     "name": "stdout",
     "output_type": "stream",
     "text": [
      "Vocab size 30369\n"
     ]
    }
   ],
   "source": [
    "words = w2v_model.wv.vocab.keys()\n",
    "vocab_size = len(words)\n",
    "print(\"Vocab size\", vocab_size)"
   ]
  },
  {
   "cell_type": "code",
   "execution_count": 26,
   "metadata": {
    "scrolled": true
   },
   "outputs": [
    {
     "name": "stderr",
     "output_type": "stream",
     "text": [
      "2020-08-08 19:59:40,959 : INFO : training model with 8 workers on 30369 vocabulary and 300 features, using sg=0 hs=0 sample=0.001 negative=5 window=7\n",
      "2020-08-08 19:59:42,027 : INFO : EPOCH 1 - PROGRESS: at 5.32% examples, 426642 words/s, in_qsize 14, out_qsize 1\n",
      "2020-08-08 19:59:43,036 : INFO : EPOCH 1 - PROGRESS: at 10.75% examples, 434097 words/s, in_qsize 15, out_qsize 2\n",
      "2020-08-08 19:59:44,049 : INFO : EPOCH 1 - PROGRESS: at 16.48% examples, 444558 words/s, in_qsize 14, out_qsize 1\n",
      "2020-08-08 19:59:45,077 : INFO : EPOCH 1 - PROGRESS: at 22.01% examples, 443916 words/s, in_qsize 14, out_qsize 1\n",
      "2020-08-08 19:59:46,142 : INFO : EPOCH 1 - PROGRESS: at 27.10% examples, 433379 words/s, in_qsize 11, out_qsize 4\n",
      "2020-08-08 19:59:47,144 : INFO : EPOCH 1 - PROGRESS: at 32.84% examples, 439651 words/s, in_qsize 15, out_qsize 0\n",
      "2020-08-08 19:59:48,153 : INFO : EPOCH 1 - PROGRESS: at 39.43% examples, 453577 words/s, in_qsize 15, out_qsize 0\n",
      "2020-08-08 19:59:49,175 : INFO : EPOCH 1 - PROGRESS: at 44.83% examples, 451298 words/s, in_qsize 14, out_qsize 1\n",
      "2020-08-08 19:59:50,198 : INFO : EPOCH 1 - PROGRESS: at 50.78% examples, 454443 words/s, in_qsize 13, out_qsize 2\n",
      "2020-08-08 19:59:51,223 : INFO : EPOCH 1 - PROGRESS: at 57.71% examples, 464647 words/s, in_qsize 15, out_qsize 0\n",
      "2020-08-08 19:59:52,230 : INFO : EPOCH 1 - PROGRESS: at 64.40% examples, 472138 words/s, in_qsize 15, out_qsize 0\n",
      "2020-08-08 19:59:53,242 : INFO : EPOCH 1 - PROGRESS: at 70.80% examples, 476050 words/s, in_qsize 15, out_qsize 0\n",
      "2020-08-08 19:59:54,248 : INFO : EPOCH 1 - PROGRESS: at 77.31% examples, 480211 words/s, in_qsize 15, out_qsize 0\n",
      "2020-08-08 19:59:55,301 : INFO : EPOCH 1 - PROGRESS: at 83.72% examples, 481635 words/s, in_qsize 15, out_qsize 0\n",
      "2020-08-08 19:59:56,352 : INFO : EPOCH 1 - PROGRESS: at 89.34% examples, 478820 words/s, in_qsize 15, out_qsize 0\n",
      "2020-08-08 19:59:57,393 : INFO : EPOCH 1 - PROGRESS: at 95.45% examples, 478816 words/s, in_qsize 15, out_qsize 0\n",
      "2020-08-08 19:59:58,004 : INFO : worker thread finished; awaiting finish of 7 more threads\n",
      "2020-08-08 19:59:58,043 : INFO : worker thread finished; awaiting finish of 6 more threads\n",
      "2020-08-08 19:59:58,048 : INFO : worker thread finished; awaiting finish of 5 more threads\n",
      "2020-08-08 19:59:58,061 : INFO : worker thread finished; awaiting finish of 4 more threads\n",
      "2020-08-08 19:59:58,070 : INFO : worker thread finished; awaiting finish of 3 more threads\n",
      "2020-08-08 19:59:58,089 : INFO : worker thread finished; awaiting finish of 2 more threads\n",
      "2020-08-08 19:59:58,098 : INFO : worker thread finished; awaiting finish of 1 more threads\n",
      "2020-08-08 19:59:58,102 : INFO : worker thread finished; awaiting finish of 0 more threads\n",
      "2020-08-08 19:59:58,105 : INFO : EPOCH - 1 : training on 9227204 raw words (8222323 effective words) took 17.1s, 480835 effective words/s\n",
      "2020-08-08 19:59:59,145 : INFO : EPOCH 2 - PROGRESS: at 5.11% examples, 413812 words/s, in_qsize 15, out_qsize 0\n",
      "2020-08-08 20:00:00,221 : INFO : EPOCH 2 - PROGRESS: at 10.75% examples, 422668 words/s, in_qsize 14, out_qsize 4\n",
      "2020-08-08 20:00:01,282 : INFO : EPOCH 2 - PROGRESS: at 17.02% examples, 444351 words/s, in_qsize 14, out_qsize 3\n",
      "2020-08-08 20:00:02,287 : INFO : EPOCH 2 - PROGRESS: at 23.74% examples, 469801 words/s, in_qsize 16, out_qsize 0\n",
      "2020-08-08 20:00:03,293 : INFO : EPOCH 2 - PROGRESS: at 30.78% examples, 490474 words/s, in_qsize 15, out_qsize 0\n",
      "2020-08-08 20:00:04,299 : INFO : EPOCH 2 - PROGRESS: at 37.48% examples, 499983 words/s, in_qsize 16, out_qsize 0\n",
      "2020-08-08 20:00:05,314 : INFO : EPOCH 2 - PROGRESS: at 43.54% examples, 498758 words/s, in_qsize 14, out_qsize 1\n",
      "2020-08-08 20:00:06,354 : INFO : EPOCH 2 - PROGRESS: at 50.89% examples, 509409 words/s, in_qsize 13, out_qsize 2\n",
      "2020-08-08 20:00:07,384 : INFO : EPOCH 2 - PROGRESS: at 57.81% examples, 514361 words/s, in_qsize 15, out_qsize 0\n",
      "2020-08-08 20:00:08,409 : INFO : EPOCH 2 - PROGRESS: at 64.84% examples, 519444 words/s, in_qsize 15, out_qsize 0\n",
      "2020-08-08 20:00:09,427 : INFO : EPOCH 2 - PROGRESS: at 71.67% examples, 522259 words/s, in_qsize 15, out_qsize 0\n",
      "2020-08-08 20:00:10,439 : INFO : EPOCH 2 - PROGRESS: at 77.96% examples, 521285 words/s, in_qsize 15, out_qsize 1\n",
      "2020-08-08 20:00:11,473 : INFO : EPOCH 2 - PROGRESS: at 84.48% examples, 520934 words/s, in_qsize 16, out_qsize 0\n",
      "2020-08-08 20:00:12,486 : INFO : EPOCH 2 - PROGRESS: at 90.22% examples, 517007 words/s, in_qsize 15, out_qsize 1\n",
      "2020-08-08 20:00:13,498 : INFO : EPOCH 2 - PROGRESS: at 95.34% examples, 510184 words/s, in_qsize 15, out_qsize 0\n",
      "2020-08-08 20:00:14,357 : INFO : worker thread finished; awaiting finish of 7 more threads\n",
      "2020-08-08 20:00:14,361 : INFO : worker thread finished; awaiting finish of 6 more threads\n",
      "2020-08-08 20:00:14,368 : INFO : worker thread finished; awaiting finish of 5 more threads\n",
      "2020-08-08 20:00:14,373 : INFO : worker thread finished; awaiting finish of 4 more threads\n",
      "2020-08-08 20:00:14,417 : INFO : worker thread finished; awaiting finish of 3 more threads\n",
      "2020-08-08 20:00:14,421 : INFO : worker thread finished; awaiting finish of 2 more threads\n",
      "2020-08-08 20:00:14,429 : INFO : worker thread finished; awaiting finish of 1 more threads\n",
      "2020-08-08 20:00:14,445 : INFO : worker thread finished; awaiting finish of 0 more threads\n",
      "2020-08-08 20:00:14,447 : INFO : EPOCH - 2 : training on 9227204 raw words (8222114 effective words) took 16.3s, 504056 effective words/s\n",
      "2020-08-08 20:00:15,500 : INFO : EPOCH 3 - PROGRESS: at 5.32% examples, 423974 words/s, in_qsize 16, out_qsize 0\n",
      "2020-08-08 20:00:16,531 : INFO : EPOCH 3 - PROGRESS: at 10.64% examples, 423848 words/s, in_qsize 14, out_qsize 1\n",
      "2020-08-08 20:00:17,581 : INFO : EPOCH 3 - PROGRESS: at 16.16% examples, 426765 words/s, in_qsize 15, out_qsize 0\n",
      "2020-08-08 20:00:18,583 : INFO : EPOCH 3 - PROGRESS: at 21.57% examples, 431180 words/s, in_qsize 15, out_qsize 0\n",
      "2020-08-08 20:00:19,591 : INFO : EPOCH 3 - PROGRESS: at 27.21% examples, 436725 words/s, in_qsize 15, out_qsize 0\n",
      "2020-08-08 20:00:20,616 : INFO : EPOCH 3 - PROGRESS: at 33.37% examples, 446520 words/s, in_qsize 15, out_qsize 0\n",
      "2020-08-08 20:00:21,637 : INFO : EPOCH 3 - PROGRESS: at 39.11% examples, 448797 words/s, in_qsize 14, out_qsize 1\n",
      "2020-08-08 20:00:22,643 : INFO : EPOCH 3 - PROGRESS: at 45.16% examples, 454586 words/s, in_qsize 14, out_qsize 1\n",
      "2020-08-08 20:00:23,668 : INFO : EPOCH 3 - PROGRESS: at 51.43% examples, 460115 words/s, in_qsize 14, out_qsize 1\n",
      "2020-08-08 20:00:24,674 : INFO : EPOCH 3 - PROGRESS: at 57.49% examples, 463653 words/s, in_qsize 15, out_qsize 0\n",
      "2020-08-08 20:00:25,680 : INFO : EPOCH 3 - PROGRESS: at 63.75% examples, 468145 words/s, in_qsize 15, out_qsize 0\n",
      "2020-08-08 20:00:26,684 : INFO : EPOCH 3 - PROGRESS: at 70.16% examples, 472701 words/s, in_qsize 15, out_qsize 0\n",
      "2020-08-08 20:00:27,693 : INFO : EPOCH 3 - PROGRESS: at 76.22% examples, 474341 words/s, in_qsize 15, out_qsize 0\n",
      "2020-08-08 20:00:28,745 : INFO : EPOCH 3 - PROGRESS: at 82.64% examples, 476207 words/s, in_qsize 14, out_qsize 1\n",
      "2020-08-08 20:00:29,810 : INFO : EPOCH 3 - PROGRESS: at 88.70% examples, 475628 words/s, in_qsize 14, out_qsize 1\n",
      "2020-08-08 20:00:30,853 : INFO : EPOCH 3 - PROGRESS: at 94.79% examples, 475754 words/s, in_qsize 16, out_qsize 0\n",
      "2020-08-08 20:00:31,467 : INFO : worker thread finished; awaiting finish of 7 more threads\n",
      "2020-08-08 20:00:31,479 : INFO : worker thread finished; awaiting finish of 6 more threads\n",
      "2020-08-08 20:00:31,483 : INFO : worker thread finished; awaiting finish of 5 more threads\n",
      "2020-08-08 20:00:31,499 : INFO : worker thread finished; awaiting finish of 4 more threads\n",
      "2020-08-08 20:00:31,501 : INFO : worker thread finished; awaiting finish of 3 more threads\n",
      "2020-08-08 20:00:31,543 : INFO : worker thread finished; awaiting finish of 2 more threads\n",
      "2020-08-08 20:00:31,548 : INFO : worker thread finished; awaiting finish of 1 more threads\n",
      "2020-08-08 20:00:31,550 : INFO : worker thread finished; awaiting finish of 0 more threads\n",
      "2020-08-08 20:00:31,551 : INFO : EPOCH - 3 : training on 9227204 raw words (8222387 effective words) took 17.1s, 481413 effective words/s\n",
      "2020-08-08 20:00:32,614 : INFO : EPOCH 4 - PROGRESS: at 5.75% examples, 460802 words/s, in_qsize 14, out_qsize 1\n"
     ]
    },
    {
     "name": "stderr",
     "output_type": "stream",
     "text": [
      "2020-08-08 20:00:33,621 : INFO : EPOCH 4 - PROGRESS: at 11.30% examples, 456505 words/s, in_qsize 16, out_qsize 1\n",
      "2020-08-08 20:00:34,631 : INFO : EPOCH 4 - PROGRESS: at 17.57% examples, 474599 words/s, in_qsize 15, out_qsize 0\n",
      "2020-08-08 20:00:35,684 : INFO : EPOCH 4 - PROGRESS: at 23.19% examples, 465688 words/s, in_qsize 15, out_qsize 0\n",
      "2020-08-08 20:00:36,700 : INFO : EPOCH 4 - PROGRESS: at 29.37% examples, 472577 words/s, in_qsize 15, out_qsize 0\n",
      "2020-08-08 20:00:37,736 : INFO : EPOCH 4 - PROGRESS: at 35.64% examples, 476911 words/s, in_qsize 15, out_qsize 2\n",
      "2020-08-08 20:00:38,763 : INFO : EPOCH 4 - PROGRESS: at 42.78% examples, 490583 words/s, in_qsize 15, out_qsize 0\n",
      "2020-08-08 20:00:39,772 : INFO : EPOCH 4 - PROGRESS: at 49.38% examples, 496488 words/s, in_qsize 15, out_qsize 0\n",
      "2020-08-08 20:00:40,791 : INFO : EPOCH 4 - PROGRESS: at 55.32% examples, 494814 words/s, in_qsize 15, out_qsize 0\n",
      "2020-08-08 20:00:41,836 : INFO : EPOCH 4 - PROGRESS: at 61.60% examples, 494787 words/s, in_qsize 14, out_qsize 2\n",
      "2020-08-08 20:00:42,851 : INFO : EPOCH 4 - PROGRESS: at 68.43% examples, 500035 words/s, in_qsize 16, out_qsize 0\n",
      "2020-08-08 20:00:43,854 : INFO : EPOCH 4 - PROGRESS: at 74.37% examples, 499055 words/s, in_qsize 15, out_qsize 0\n",
      "2020-08-08 20:00:44,860 : INFO : EPOCH 4 - PROGRESS: at 80.03% examples, 496120 words/s, in_qsize 16, out_qsize 0\n",
      "2020-08-08 20:00:45,909 : INFO : EPOCH 4 - PROGRESS: at 86.31% examples, 495858 words/s, in_qsize 14, out_qsize 1\n",
      "2020-08-08 20:00:46,926 : INFO : EPOCH 4 - PROGRESS: at 93.05% examples, 498953 words/s, in_qsize 15, out_qsize 1\n",
      "2020-08-08 20:00:47,923 : INFO : worker thread finished; awaiting finish of 7 more threads\n",
      "2020-08-08 20:00:47,952 : INFO : EPOCH 4 - PROGRESS: at 99.34% examples, 499290 words/s, in_qsize 6, out_qsize 1\n",
      "2020-08-08 20:00:47,954 : INFO : worker thread finished; awaiting finish of 6 more threads\n",
      "2020-08-08 20:00:47,969 : INFO : worker thread finished; awaiting finish of 5 more threads\n",
      "2020-08-08 20:00:47,980 : INFO : worker thread finished; awaiting finish of 4 more threads\n",
      "2020-08-08 20:00:47,997 : INFO : worker thread finished; awaiting finish of 3 more threads\n",
      "2020-08-08 20:00:48,008 : INFO : worker thread finished; awaiting finish of 2 more threads\n",
      "2020-08-08 20:00:48,022 : INFO : worker thread finished; awaiting finish of 1 more threads\n",
      "2020-08-08 20:00:48,034 : INFO : worker thread finished; awaiting finish of 0 more threads\n",
      "2020-08-08 20:00:48,036 : INFO : EPOCH - 4 : training on 9227204 raw words (8222706 effective words) took 16.4s, 499998 effective words/s\n",
      "2020-08-08 20:00:49,142 : INFO : EPOCH 5 - PROGRESS: at 4.67% examples, 360696 words/s, in_qsize 15, out_qsize 2\n",
      "2020-08-08 20:00:50,144 : INFO : EPOCH 5 - PROGRESS: at 10.53% examples, 418839 words/s, in_qsize 15, out_qsize 0\n",
      "2020-08-08 20:00:51,156 : INFO : EPOCH 5 - PROGRESS: at 16.48% examples, 440203 words/s, in_qsize 15, out_qsize 0\n",
      "2020-08-08 20:00:52,199 : INFO : EPOCH 5 - PROGRESS: at 22.98% examples, 458495 words/s, in_qsize 13, out_qsize 2\n",
      "2020-08-08 20:00:53,206 : INFO : EPOCH 5 - PROGRESS: at 29.26% examples, 469252 words/s, in_qsize 15, out_qsize 0\n",
      "2020-08-08 20:00:54,211 : INFO : EPOCH 5 - PROGRESS: at 35.10% examples, 470770 words/s, in_qsize 15, out_qsize 0\n",
      "2020-08-08 20:00:55,231 : INFO : EPOCH 5 - PROGRESS: at 41.59% examples, 478434 words/s, in_qsize 15, out_qsize 0\n",
      "2020-08-08 20:00:56,252 : INFO : EPOCH 5 - PROGRESS: at 48.08% examples, 483991 words/s, in_qsize 15, out_qsize 1\n",
      "2020-08-08 20:00:57,270 : INFO : EPOCH 5 - PROGRESS: at 54.78% examples, 490527 words/s, in_qsize 16, out_qsize 0\n",
      "2020-08-08 20:00:58,277 : INFO : EPOCH 5 - PROGRESS: at 61.17% examples, 493695 words/s, in_qsize 15, out_qsize 0\n",
      "2020-08-08 20:00:59,307 : INFO : EPOCH 5 - PROGRESS: at 67.23% examples, 492763 words/s, in_qsize 15, out_qsize 0\n",
      "2020-08-08 20:01:00,395 : INFO : EPOCH 5 - PROGRESS: at 73.52% examples, 491181 words/s, in_qsize 15, out_qsize 4\n",
      "2020-08-08 20:01:01,414 : INFO : EPOCH 5 - PROGRESS: at 80.25% examples, 495060 words/s, in_qsize 14, out_qsize 1\n",
      "2020-08-08 20:01:02,440 : INFO : EPOCH 5 - PROGRESS: at 86.31% examples, 494431 words/s, in_qsize 15, out_qsize 0\n",
      "2020-08-08 20:01:03,440 : INFO : EPOCH 5 - PROGRESS: at 92.17% examples, 493537 words/s, in_qsize 15, out_qsize 0\n",
      "2020-08-08 20:01:04,454 : INFO : EPOCH 5 - PROGRESS: at 97.50% examples, 489658 words/s, in_qsize 14, out_qsize 1\n",
      "2020-08-08 20:01:04,756 : INFO : worker thread finished; awaiting finish of 7 more threads\n",
      "2020-08-08 20:01:04,787 : INFO : worker thread finished; awaiting finish of 6 more threads\n",
      "2020-08-08 20:01:04,834 : INFO : worker thread finished; awaiting finish of 5 more threads\n",
      "2020-08-08 20:01:04,845 : INFO : worker thread finished; awaiting finish of 4 more threads\n",
      "2020-08-08 20:01:04,848 : INFO : worker thread finished; awaiting finish of 3 more threads\n",
      "2020-08-08 20:01:04,851 : INFO : worker thread finished; awaiting finish of 2 more threads\n",
      "2020-08-08 20:01:04,856 : INFO : worker thread finished; awaiting finish of 1 more threads\n",
      "2020-08-08 20:01:04,877 : INFO : worker thread finished; awaiting finish of 0 more threads\n",
      "2020-08-08 20:01:04,880 : INFO : EPOCH - 5 : training on 9227204 raw words (8222977 effective words) took 16.8s, 489479 effective words/s\n",
      "2020-08-08 20:01:05,941 : INFO : EPOCH 6 - PROGRESS: at 4.78% examples, 384628 words/s, in_qsize 15, out_qsize 0\n",
      "2020-08-08 20:01:06,949 : INFO : EPOCH 6 - PROGRESS: at 10.32% examples, 417635 words/s, in_qsize 14, out_qsize 1\n",
      "2020-08-08 20:01:08,022 : INFO : EPOCH 6 - PROGRESS: at 17.02% examples, 451048 words/s, in_qsize 16, out_qsize 0\n",
      "2020-08-08 20:01:09,054 : INFO : EPOCH 6 - PROGRESS: at 23.52% examples, 467887 words/s, in_qsize 14, out_qsize 1\n",
      "2020-08-08 20:01:10,105 : INFO : EPOCH 6 - PROGRESS: at 29.16% examples, 462402 words/s, in_qsize 16, out_qsize 0\n",
      "2020-08-08 20:01:11,153 : INFO : EPOCH 6 - PROGRESS: at 35.42% examples, 467584 words/s, in_qsize 14, out_qsize 1\n",
      "2020-08-08 20:01:12,162 : INFO : EPOCH 6 - PROGRESS: at 41.91% examples, 476254 words/s, in_qsize 14, out_qsize 1\n",
      "2020-08-08 20:01:13,197 : INFO : EPOCH 6 - PROGRESS: at 48.19% examples, 479084 words/s, in_qsize 15, out_qsize 0\n",
      "2020-08-08 20:01:14,247 : INFO : EPOCH 6 - PROGRESS: at 54.46% examples, 480588 words/s, in_qsize 14, out_qsize 1\n",
      "2020-08-08 20:01:15,271 : INFO : EPOCH 6 - PROGRESS: at 61.07% examples, 485558 words/s, in_qsize 15, out_qsize 0\n",
      "2020-08-08 20:01:16,273 : INFO : EPOCH 6 - PROGRESS: at 67.78% examples, 491269 words/s, in_qsize 15, out_qsize 0\n",
      "2020-08-08 20:01:17,287 : INFO : EPOCH 6 - PROGRESS: at 74.37% examples, 494966 words/s, in_qsize 15, out_qsize 0\n",
      "2020-08-08 20:01:18,299 : INFO : EPOCH 6 - PROGRESS: at 80.14% examples, 492774 words/s, in_qsize 15, out_qsize 0\n",
      "2020-08-08 20:01:19,313 : INFO : EPOCH 6 - PROGRESS: at 85.77% examples, 490272 words/s, in_qsize 15, out_qsize 0\n",
      "2020-08-08 20:01:20,355 : INFO : EPOCH 6 - PROGRESS: at 91.74% examples, 488874 words/s, in_qsize 16, out_qsize 1\n",
      "2020-08-08 20:01:21,355 : INFO : EPOCH 6 - PROGRESS: at 97.50% examples, 487823 words/s, in_qsize 15, out_qsize 0\n",
      "2020-08-08 20:01:21,682 : INFO : worker thread finished; awaiting finish of 7 more threads\n",
      "2020-08-08 20:01:21,714 : INFO : worker thread finished; awaiting finish of 6 more threads\n",
      "2020-08-08 20:01:21,716 : INFO : worker thread finished; awaiting finish of 5 more threads\n",
      "2020-08-08 20:01:21,726 : INFO : worker thread finished; awaiting finish of 4 more threads\n",
      "2020-08-08 20:01:21,744 : INFO : worker thread finished; awaiting finish of 3 more threads\n",
      "2020-08-08 20:01:21,750 : INFO : worker thread finished; awaiting finish of 2 more threads\n",
      "2020-08-08 20:01:21,788 : INFO : worker thread finished; awaiting finish of 1 more threads\n",
      "2020-08-08 20:01:21,800 : INFO : worker thread finished; awaiting finish of 0 more threads\n",
      "2020-08-08 20:01:21,802 : INFO : EPOCH - 6 : training on 9227204 raw words (8222192 effective words) took 16.9s, 487110 effective words/s\n",
      "2020-08-08 20:01:22,872 : INFO : EPOCH 7 - PROGRESS: at 5.00% examples, 391836 words/s, in_qsize 14, out_qsize 1\n",
      "2020-08-08 20:01:23,880 : INFO : EPOCH 7 - PROGRESS: at 11.29% examples, 451204 words/s, in_qsize 15, out_qsize 0\n",
      "2020-08-08 20:01:24,910 : INFO : EPOCH 7 - PROGRESS: at 17.68% examples, 470812 words/s, in_qsize 15, out_qsize 0\n"
     ]
    },
    {
     "name": "stderr",
     "output_type": "stream",
     "text": [
      "2020-08-08 20:01:25,927 : INFO : EPOCH 7 - PROGRESS: at 23.52% examples, 471517 words/s, in_qsize 15, out_qsize 1\n",
      "2020-08-08 20:01:26,990 : INFO : EPOCH 7 - PROGRESS: at 29.59% examples, 471000 words/s, in_qsize 16, out_qsize 2\n",
      "2020-08-08 20:01:27,991 : INFO : EPOCH 7 - PROGRESS: at 36.18% examples, 482679 words/s, in_qsize 16, out_qsize 0\n",
      "2020-08-08 20:01:29,040 : INFO : EPOCH 7 - PROGRESS: at 42.35% examples, 482844 words/s, in_qsize 14, out_qsize 1\n",
      "2020-08-08 20:01:30,060 : INFO : EPOCH 7 - PROGRESS: at 48.84% examples, 487954 words/s, in_qsize 15, out_qsize 0\n",
      "2020-08-08 20:01:31,068 : INFO : EPOCH 7 - PROGRESS: at 55.10% examples, 490686 words/s, in_qsize 14, out_qsize 1\n",
      "2020-08-08 20:01:32,075 : INFO : EPOCH 7 - PROGRESS: at 61.50% examples, 493776 words/s, in_qsize 16, out_qsize 1\n",
      "2020-08-08 20:01:33,089 : INFO : EPOCH 7 - PROGRESS: at 67.66% examples, 494308 words/s, in_qsize 14, out_qsize 1\n",
      "2020-08-08 20:01:34,122 : INFO : EPOCH 7 - PROGRESS: at 73.19% examples, 489804 words/s, in_qsize 16, out_qsize 1\n",
      "2020-08-08 20:01:35,122 : INFO : EPOCH 7 - PROGRESS: at 79.71% examples, 493111 words/s, in_qsize 14, out_qsize 1\n",
      "2020-08-08 20:01:36,171 : INFO : EPOCH 7 - PROGRESS: at 84.91% examples, 486866 words/s, in_qsize 15, out_qsize 0\n",
      "2020-08-08 20:01:37,209 : INFO : EPOCH 7 - PROGRESS: at 89.78% examples, 480083 words/s, in_qsize 15, out_qsize 1\n",
      "2020-08-08 20:01:38,231 : INFO : EPOCH 7 - PROGRESS: at 95.12% examples, 476755 words/s, in_qsize 15, out_qsize 0\n",
      "2020-08-08 20:01:39,036 : INFO : worker thread finished; awaiting finish of 7 more threads\n",
      "2020-08-08 20:01:39,068 : INFO : worker thread finished; awaiting finish of 6 more threads\n",
      "2020-08-08 20:01:39,073 : INFO : worker thread finished; awaiting finish of 5 more threads\n",
      "2020-08-08 20:01:39,083 : INFO : worker thread finished; awaiting finish of 4 more threads\n",
      "2020-08-08 20:01:39,090 : INFO : worker thread finished; awaiting finish of 3 more threads\n",
      "2020-08-08 20:01:39,104 : INFO : worker thread finished; awaiting finish of 2 more threads\n",
      "2020-08-08 20:01:39,124 : INFO : worker thread finished; awaiting finish of 1 more threads\n",
      "2020-08-08 20:01:39,127 : INFO : worker thread finished; awaiting finish of 0 more threads\n",
      "2020-08-08 20:01:39,129 : INFO : EPOCH - 7 : training on 9227204 raw words (8222502 effective words) took 17.3s, 475247 effective words/s\n",
      "2020-08-08 20:01:40,202 : INFO : EPOCH 8 - PROGRESS: at 5.43% examples, 421519 words/s, in_qsize 16, out_qsize 0\n",
      "2020-08-08 20:01:41,218 : INFO : EPOCH 8 - PROGRESS: at 11.19% examples, 442898 words/s, in_qsize 15, out_qsize 0\n",
      "2020-08-08 20:01:42,258 : INFO : EPOCH 8 - PROGRESS: at 16.27% examples, 429222 words/s, in_qsize 15, out_qsize 2\n",
      "2020-08-08 20:01:43,280 : INFO : EPOCH 8 - PROGRESS: at 22.43% examples, 445964 words/s, in_qsize 16, out_qsize 1\n",
      "2020-08-08 20:01:44,317 : INFO : EPOCH 8 - PROGRESS: at 28.61% examples, 454805 words/s, in_qsize 15, out_qsize 0\n",
      "2020-08-08 20:01:45,318 : INFO : EPOCH 8 - PROGRESS: at 34.68% examples, 461904 words/s, in_qsize 15, out_qsize 0\n",
      "2020-08-08 20:01:46,353 : INFO : EPOCH 8 - PROGRESS: at 41.26% examples, 470921 words/s, in_qsize 15, out_qsize 0\n",
      "2020-08-08 20:01:47,366 : INFO : EPOCH 8 - PROGRESS: at 48.40% examples, 484386 words/s, in_qsize 15, out_qsize 0\n",
      "2020-08-08 20:01:48,396 : INFO : EPOCH 8 - PROGRESS: at 55.21% examples, 491169 words/s, in_qsize 15, out_qsize 0\n",
      "2020-08-08 20:01:49,402 : INFO : EPOCH 8 - PROGRESS: at 62.25% examples, 499433 words/s, in_qsize 15, out_qsize 0\n",
      "2020-08-08 20:01:50,418 : INFO : EPOCH 8 - PROGRESS: at 68.64% examples, 501072 words/s, in_qsize 14, out_qsize 1\n",
      "2020-08-08 20:01:51,422 : INFO : EPOCH 8 - PROGRESS: at 74.70% examples, 500666 words/s, in_qsize 15, out_qsize 0\n",
      "2020-08-08 20:01:52,433 : INFO : EPOCH 8 - PROGRESS: at 80.14% examples, 496092 words/s, in_qsize 15, out_qsize 0\n",
      "2020-08-08 20:01:53,439 : INFO : EPOCH 8 - PROGRESS: at 86.21% examples, 496047 words/s, in_qsize 14, out_qsize 1\n",
      "2020-08-08 20:01:54,448 : INFO : EPOCH 8 - PROGRESS: at 92.61% examples, 497653 words/s, in_qsize 14, out_qsize 1\n",
      "2020-08-08 20:01:55,468 : INFO : EPOCH 8 - PROGRESS: at 98.90% examples, 498226 words/s, in_qsize 11, out_qsize 0\n",
      "2020-08-08 20:01:55,513 : INFO : worker thread finished; awaiting finish of 7 more threads\n",
      "2020-08-08 20:01:55,522 : INFO : worker thread finished; awaiting finish of 6 more threads\n",
      "2020-08-08 20:01:55,524 : INFO : worker thread finished; awaiting finish of 5 more threads\n",
      "2020-08-08 20:01:55,530 : INFO : worker thread finished; awaiting finish of 4 more threads\n",
      "2020-08-08 20:01:55,546 : INFO : worker thread finished; awaiting finish of 3 more threads\n",
      "2020-08-08 20:01:55,558 : INFO : worker thread finished; awaiting finish of 2 more threads\n",
      "2020-08-08 20:01:55,590 : INFO : worker thread finished; awaiting finish of 1 more threads\n",
      "2020-08-08 20:01:55,596 : INFO : worker thread finished; awaiting finish of 0 more threads\n",
      "2020-08-08 20:01:55,598 : INFO : EPOCH - 8 : training on 9227204 raw words (8222224 effective words) took 16.5s, 499754 effective words/s\n",
      "2020-08-08 20:01:56,635 : INFO : EPOCH 9 - PROGRESS: at 4.78% examples, 391179 words/s, in_qsize 14, out_qsize 1\n",
      "2020-08-08 20:01:57,680 : INFO : EPOCH 9 - PROGRESS: at 10.75% examples, 430917 words/s, in_qsize 14, out_qsize 2\n",
      "2020-08-08 20:01:58,709 : INFO : EPOCH 9 - PROGRESS: at 16.92% examples, 451920 words/s, in_qsize 15, out_qsize 0\n",
      "2020-08-08 20:01:59,753 : INFO : EPOCH 9 - PROGRESS: at 23.30% examples, 465026 words/s, in_qsize 15, out_qsize 0\n",
      "2020-08-08 20:02:00,784 : INFO : EPOCH 9 - PROGRESS: at 29.26% examples, 467110 words/s, in_qsize 16, out_qsize 0\n",
      "2020-08-08 20:02:01,814 : INFO : EPOCH 9 - PROGRESS: at 35.43% examples, 471377 words/s, in_qsize 15, out_qsize 0\n",
      "2020-08-08 20:02:02,861 : INFO : EPOCH 9 - PROGRESS: at 41.81% examples, 475804 words/s, in_qsize 15, out_qsize 0\n",
      "2020-08-08 20:02:03,887 : INFO : EPOCH 9 - PROGRESS: at 48.62% examples, 484676 words/s, in_qsize 15, out_qsize 0\n",
      "2020-08-08 20:02:04,916 : INFO : EPOCH 9 - PROGRESS: at 55.75% examples, 494325 words/s, in_qsize 16, out_qsize 0\n",
      "2020-08-08 20:02:05,925 : INFO : EPOCH 9 - PROGRESS: at 61.93% examples, 495190 words/s, in_qsize 13, out_qsize 2\n",
      "2020-08-08 20:02:06,956 : INFO : EPOCH 9 - PROGRESS: at 68.21% examples, 495756 words/s, in_qsize 13, out_qsize 2\n",
      "2020-08-08 20:02:07,966 : INFO : EPOCH 9 - PROGRESS: at 73.83% examples, 492720 words/s, in_qsize 15, out_qsize 0\n",
      "2020-08-08 20:02:08,978 : INFO : EPOCH 9 - PROGRESS: at 78.84% examples, 486041 words/s, in_qsize 14, out_qsize 1\n",
      "2020-08-08 20:02:09,991 : INFO : EPOCH 9 - PROGRESS: at 84.15% examples, 482156 words/s, in_qsize 15, out_qsize 0\n",
      "2020-08-08 20:02:11,013 : INFO : EPOCH 9 - PROGRESS: at 89.78% examples, 480208 words/s, in_qsize 16, out_qsize 1\n",
      "2020-08-08 20:02:12,014 : INFO : EPOCH 9 - PROGRESS: at 95.99% examples, 481849 words/s, in_qsize 14, out_qsize 1\n",
      "2020-08-08 20:02:12,606 : INFO : worker thread finished; awaiting finish of 7 more threads\n",
      "2020-08-08 20:02:12,624 : INFO : worker thread finished; awaiting finish of 6 more threads\n",
      "2020-08-08 20:02:12,639 : INFO : worker thread finished; awaiting finish of 5 more threads\n",
      "2020-08-08 20:02:12,643 : INFO : worker thread finished; awaiting finish of 4 more threads\n",
      "2020-08-08 20:02:12,647 : INFO : worker thread finished; awaiting finish of 3 more threads\n",
      "2020-08-08 20:02:12,694 : INFO : worker thread finished; awaiting finish of 2 more threads\n",
      "2020-08-08 20:02:12,697 : INFO : worker thread finished; awaiting finish of 1 more threads\n",
      "2020-08-08 20:02:12,704 : INFO : worker thread finished; awaiting finish of 0 more threads\n",
      "2020-08-08 20:02:12,708 : INFO : EPOCH - 9 : training on 9227204 raw words (8223026 effective words) took 17.1s, 481621 effective words/s\n",
      "2020-08-08 20:02:13,826 : INFO : EPOCH 10 - PROGRESS: at 4.67% examples, 357117 words/s, in_qsize 14, out_qsize 1\n",
      "2020-08-08 20:02:14,855 : INFO : EPOCH 10 - PROGRESS: at 10.31% examples, 402911 words/s, in_qsize 16, out_qsize 0\n",
      "2020-08-08 20:02:15,863 : INFO : EPOCH 10 - PROGRESS: at 15.95% examples, 421129 words/s, in_qsize 15, out_qsize 0\n",
      "2020-08-08 20:02:16,873 : INFO : EPOCH 10 - PROGRESS: at 21.90% examples, 436867 words/s, in_qsize 15, out_qsize 0\n",
      "2020-08-08 20:02:17,893 : INFO : EPOCH 10 - PROGRESS: at 28.61% examples, 457629 words/s, in_qsize 14, out_qsize 1\n"
     ]
    },
    {
     "name": "stderr",
     "output_type": "stream",
     "text": [
      "2020-08-08 20:02:18,897 : INFO : EPOCH 10 - PROGRESS: at 34.78% examples, 465497 words/s, in_qsize 16, out_qsize 1\n",
      "2020-08-08 20:02:19,980 : INFO : EPOCH 10 - PROGRESS: at 41.16% examples, 468458 words/s, in_qsize 13, out_qsize 2\n",
      "2020-08-08 20:02:21,034 : INFO : EPOCH 10 - PROGRESS: at 47.65% examples, 473398 words/s, in_qsize 15, out_qsize 0\n",
      "2020-08-08 20:02:22,034 : INFO : EPOCH 10 - PROGRESS: at 53.81% examples, 477075 words/s, in_qsize 14, out_qsize 1\n",
      "2020-08-08 20:02:23,058 : INFO : EPOCH 10 - PROGRESS: at 60.09% examples, 479818 words/s, in_qsize 16, out_qsize 1\n",
      "2020-08-08 20:02:24,075 : INFO : EPOCH 10 - PROGRESS: at 66.04% examples, 480045 words/s, in_qsize 14, out_qsize 1\n",
      "2020-08-08 20:02:25,079 : INFO : EPOCH 10 - PROGRESS: at 71.78% examples, 479248 words/s, in_qsize 15, out_qsize 0\n",
      "2020-08-08 20:02:26,090 : INFO : EPOCH 10 - PROGRESS: at 77.52% examples, 478284 words/s, in_qsize 14, out_qsize 1\n",
      "2020-08-08 20:02:27,124 : INFO : EPOCH 10 - PROGRESS: at 84.05% examples, 481069 words/s, in_qsize 16, out_qsize 0\n",
      "2020-08-08 20:02:28,131 : INFO : EPOCH 10 - PROGRESS: at 91.20% examples, 487785 words/s, in_qsize 15, out_qsize 0\n",
      "2020-08-08 20:02:29,131 : INFO : EPOCH 10 - PROGRESS: at 98.04% examples, 492228 words/s, in_qsize 15, out_qsize 0\n",
      "2020-08-08 20:02:29,258 : INFO : worker thread finished; awaiting finish of 7 more threads\n",
      "2020-08-08 20:02:29,268 : INFO : worker thread finished; awaiting finish of 6 more threads\n",
      "2020-08-08 20:02:29,272 : INFO : worker thread finished; awaiting finish of 5 more threads\n",
      "2020-08-08 20:02:29,279 : INFO : worker thread finished; awaiting finish of 4 more threads\n",
      "2020-08-08 20:02:29,284 : INFO : worker thread finished; awaiting finish of 3 more threads\n",
      "2020-08-08 20:02:29,310 : INFO : worker thread finished; awaiting finish of 2 more threads\n",
      "2020-08-08 20:02:29,317 : INFO : worker thread finished; awaiting finish of 1 more threads\n",
      "2020-08-08 20:02:29,320 : INFO : worker thread finished; awaiting finish of 0 more threads\n",
      "2020-08-08 20:02:29,321 : INFO : EPOCH - 10 : training on 9227204 raw words (8223078 effective words) took 16.6s, 496328 effective words/s\n",
      "2020-08-08 20:02:30,377 : INFO : EPOCH 11 - PROGRESS: at 6.18% examples, 489541 words/s, in_qsize 16, out_qsize 1\n",
      "2020-08-08 20:02:31,392 : INFO : EPOCH 11 - PROGRESS: at 12.60% examples, 503602 words/s, in_qsize 14, out_qsize 1\n",
      "2020-08-08 20:02:32,399 : INFO : EPOCH 11 - PROGRESS: at 19.40% examples, 521110 words/s, in_qsize 14, out_qsize 1\n",
      "2020-08-08 20:02:33,400 : INFO : EPOCH 11 - PROGRESS: at 26.02% examples, 526553 words/s, in_qsize 15, out_qsize 1\n",
      "2020-08-08 20:02:34,425 : INFO : EPOCH 11 - PROGRESS: at 33.48% examples, 541246 words/s, in_qsize 15, out_qsize 0\n",
      "2020-08-08 20:02:35,447 : INFO : EPOCH 11 - PROGRESS: at 40.40% examples, 544038 words/s, in_qsize 15, out_qsize 0\n",
      "2020-08-08 20:02:36,456 : INFO : EPOCH 11 - PROGRESS: at 47.10% examples, 544493 words/s, in_qsize 14, out_qsize 1\n",
      "2020-08-08 20:02:37,538 : INFO : EPOCH 11 - PROGRESS: at 52.29% examples, 524857 words/s, in_qsize 15, out_qsize 0\n",
      "2020-08-08 20:02:38,543 : INFO : EPOCH 11 - PROGRESS: at 55.75% examples, 498567 words/s, in_qsize 16, out_qsize 2\n",
      "2020-08-08 20:02:39,596 : INFO : EPOCH 11 - PROGRESS: at 60.52% examples, 485553 words/s, in_qsize 15, out_qsize 0\n",
      "2020-08-08 20:02:40,620 : INFO : EPOCH 11 - PROGRESS: at 66.04% examples, 481762 words/s, in_qsize 15, out_qsize 0\n",
      "2020-08-08 20:02:41,648 : INFO : EPOCH 11 - PROGRESS: at 71.56% examples, 478402 words/s, in_qsize 14, out_qsize 1\n",
      "2020-08-08 20:02:42,675 : INFO : EPOCH 11 - PROGRESS: at 77.42% examples, 477626 words/s, in_qsize 12, out_qsize 3\n",
      "2020-08-08 20:02:43,683 : INFO : EPOCH 11 - PROGRESS: at 83.72% examples, 480111 words/s, in_qsize 16, out_qsize 0\n",
      "2020-08-08 20:02:44,684 : INFO : EPOCH 11 - PROGRESS: at 90.10% examples, 483042 words/s, in_qsize 16, out_qsize 1\n",
      "2020-08-08 20:02:45,686 : INFO : EPOCH 11 - PROGRESS: at 95.88% examples, 482295 words/s, in_qsize 15, out_qsize 0\n",
      "2020-08-08 20:02:46,180 : INFO : worker thread finished; awaiting finish of 7 more threads\n",
      "2020-08-08 20:02:46,203 : INFO : worker thread finished; awaiting finish of 6 more threads\n",
      "2020-08-08 20:02:46,207 : INFO : worker thread finished; awaiting finish of 5 more threads\n",
      "2020-08-08 20:02:46,212 : INFO : worker thread finished; awaiting finish of 4 more threads\n",
      "2020-08-08 20:02:46,247 : INFO : worker thread finished; awaiting finish of 3 more threads\n",
      "2020-08-08 20:02:46,253 : INFO : worker thread finished; awaiting finish of 2 more threads\n",
      "2020-08-08 20:02:46,254 : INFO : worker thread finished; awaiting finish of 1 more threads\n",
      "2020-08-08 20:02:46,271 : INFO : worker thread finished; awaiting finish of 0 more threads\n",
      "2020-08-08 20:02:46,274 : INFO : EPOCH - 11 : training on 9227204 raw words (8222978 effective words) took 16.9s, 485614 effective words/s\n",
      "2020-08-08 20:02:47,313 : INFO : EPOCH 12 - PROGRESS: at 5.54% examples, 446083 words/s, in_qsize 14, out_qsize 1\n",
      "2020-08-08 20:02:48,364 : INFO : EPOCH 12 - PROGRESS: at 12.06% examples, 478186 words/s, in_qsize 15, out_qsize 0\n",
      "2020-08-08 20:02:49,404 : INFO : EPOCH 12 - PROGRESS: at 18.54% examples, 489894 words/s, in_qsize 15, out_qsize 0\n",
      "2020-08-08 20:02:50,430 : INFO : EPOCH 12 - PROGRESS: at 25.05% examples, 497724 words/s, in_qsize 14, out_qsize 1\n",
      "2020-08-08 20:02:51,430 : INFO : EPOCH 12 - PROGRESS: at 31.43% examples, 503120 words/s, in_qsize 15, out_qsize 0\n",
      "2020-08-08 20:02:52,468 : INFO : EPOCH 12 - PROGRESS: at 38.03% examples, 506563 words/s, in_qsize 15, out_qsize 0\n",
      "2020-08-08 20:02:53,470 : INFO : EPOCH 12 - PROGRESS: at 44.62% examples, 511485 words/s, in_qsize 15, out_qsize 0\n",
      "2020-08-08 20:02:54,479 : INFO : EPOCH 12 - PROGRESS: at 50.88% examples, 511633 words/s, in_qsize 16, out_qsize 0\n",
      "2020-08-08 20:02:55,479 : INFO : EPOCH 12 - PROGRESS: at 57.27% examples, 513180 words/s, in_qsize 13, out_qsize 1\n",
      "2020-08-08 20:02:56,503 : INFO : EPOCH 12 - PROGRESS: at 62.79% examples, 506218 words/s, in_qsize 15, out_qsize 0\n",
      "2020-08-08 20:02:57,505 : INFO : EPOCH 12 - PROGRESS: at 68.42% examples, 502303 words/s, in_qsize 14, out_qsize 1\n",
      "2020-08-08 20:02:58,530 : INFO : EPOCH 12 - PROGRESS: at 74.26% examples, 499453 words/s, in_qsize 15, out_qsize 0\n",
      "2020-08-08 20:02:59,548 : INFO : EPOCH 12 - PROGRESS: at 80.47% examples, 499435 words/s, in_qsize 13, out_qsize 2\n",
      "2020-08-08 20:03:00,550 : INFO : EPOCH 12 - PROGRESS: at 86.96% examples, 501794 words/s, in_qsize 16, out_qsize 0\n",
      "2020-08-08 20:03:01,566 : INFO : EPOCH 12 - PROGRESS: at 92.50% examples, 498161 words/s, in_qsize 14, out_qsize 2\n",
      "2020-08-08 20:03:02,596 : INFO : EPOCH 12 - PROGRESS: at 99.01% examples, 499459 words/s, in_qsize 10, out_qsize 0\n",
      "2020-08-08 20:03:02,630 : INFO : worker thread finished; awaiting finish of 7 more threads\n",
      "2020-08-08 20:03:02,642 : INFO : worker thread finished; awaiting finish of 6 more threads\n",
      "2020-08-08 20:03:02,662 : INFO : worker thread finished; awaiting finish of 5 more threads\n",
      "2020-08-08 20:03:02,673 : INFO : worker thread finished; awaiting finish of 4 more threads\n",
      "2020-08-08 20:03:02,677 : INFO : worker thread finished; awaiting finish of 3 more threads\n",
      "2020-08-08 20:03:02,698 : INFO : worker thread finished; awaiting finish of 2 more threads\n",
      "2020-08-08 20:03:02,718 : INFO : worker thread finished; awaiting finish of 1 more threads\n",
      "2020-08-08 20:03:02,722 : INFO : worker thread finished; awaiting finish of 0 more threads\n",
      "2020-08-08 20:03:02,723 : INFO : EPOCH - 12 : training on 9227204 raw words (8223100 effective words) took 16.4s, 500537 effective words/s\n",
      "2020-08-08 20:03:03,765 : INFO : EPOCH 13 - PROGRESS: at 5.54% examples, 444041 words/s, in_qsize 16, out_qsize 1\n",
      "2020-08-08 20:03:04,786 : INFO : EPOCH 13 - PROGRESS: at 11.73% examples, 470900 words/s, in_qsize 15, out_qsize 0\n",
      "2020-08-08 20:03:05,802 : INFO : EPOCH 13 - PROGRESS: at 17.57% examples, 471464 words/s, in_qsize 15, out_qsize 0\n",
      "2020-08-08 20:03:06,812 : INFO : EPOCH 13 - PROGRESS: at 22.65% examples, 457356 words/s, in_qsize 14, out_qsize 1\n",
      "2020-08-08 20:03:07,829 : INFO : EPOCH 13 - PROGRESS: at 28.29% examples, 457001 words/s, in_qsize 15, out_qsize 0\n",
      "2020-08-08 20:03:08,850 : INFO : EPOCH 13 - PROGRESS: at 34.46% examples, 463817 words/s, in_qsize 15, out_qsize 0\n"
     ]
    },
    {
     "name": "stderr",
     "output_type": "stream",
     "text": [
      "2020-08-08 20:03:09,888 : INFO : EPOCH 13 - PROGRESS: at 40.29% examples, 463783 words/s, in_qsize 15, out_qsize 0\n",
      "2020-08-08 20:03:10,905 : INFO : EPOCH 13 - PROGRESS: at 46.57% examples, 469230 words/s, in_qsize 13, out_qsize 2\n",
      "2020-08-08 20:03:11,915 : INFO : EPOCH 13 - PROGRESS: at 52.29% examples, 469117 words/s, in_qsize 15, out_qsize 0\n",
      "2020-08-08 20:03:12,947 : INFO : EPOCH 13 - PROGRESS: at 57.49% examples, 463594 words/s, in_qsize 15, out_qsize 0\n",
      "2020-08-08 20:03:13,982 : INFO : EPOCH 13 - PROGRESS: at 62.36% examples, 456567 words/s, in_qsize 15, out_qsize 0\n",
      "2020-08-08 20:03:15,032 : INFO : EPOCH 13 - PROGRESS: at 67.88% examples, 454549 words/s, in_qsize 16, out_qsize 0\n",
      "2020-08-08 20:03:16,044 : INFO : EPOCH 13 - PROGRESS: at 73.73% examples, 456104 words/s, in_qsize 15, out_qsize 0\n",
      "2020-08-08 20:03:17,076 : INFO : EPOCH 13 - PROGRESS: at 79.81% examples, 458070 words/s, in_qsize 15, out_qsize 0\n",
      "2020-08-08 20:03:18,081 : INFO : EPOCH 13 - PROGRESS: at 85.13% examples, 456513 words/s, in_qsize 16, out_qsize 1\n",
      "2020-08-08 20:03:19,136 : INFO : EPOCH 13 - PROGRESS: at 91.63% examples, 459687 words/s, in_qsize 15, out_qsize 0\n",
      "2020-08-08 20:03:20,152 : INFO : EPOCH 13 - PROGRESS: at 98.26% examples, 464076 words/s, in_qsize 13, out_qsize 2\n",
      "2020-08-08 20:03:20,301 : INFO : worker thread finished; awaiting finish of 7 more threads\n",
      "2020-08-08 20:03:20,310 : INFO : worker thread finished; awaiting finish of 6 more threads\n",
      "2020-08-08 20:03:20,311 : INFO : worker thread finished; awaiting finish of 5 more threads\n",
      "2020-08-08 20:03:20,313 : INFO : worker thread finished; awaiting finish of 4 more threads\n",
      "2020-08-08 20:03:20,350 : INFO : worker thread finished; awaiting finish of 3 more threads\n",
      "2020-08-08 20:03:20,358 : INFO : worker thread finished; awaiting finish of 2 more threads\n",
      "2020-08-08 20:03:20,360 : INFO : worker thread finished; awaiting finish of 1 more threads\n",
      "2020-08-08 20:03:20,377 : INFO : worker thread finished; awaiting finish of 0 more threads\n",
      "2020-08-08 20:03:20,379 : INFO : EPOCH - 13 : training on 9227204 raw words (8222813 effective words) took 17.6s, 466231 effective words/s\n",
      "2020-08-08 20:03:21,437 : INFO : EPOCH 14 - PROGRESS: at 5.75% examples, 460004 words/s, in_qsize 15, out_qsize 0\n",
      "2020-08-08 20:03:22,442 : INFO : EPOCH 14 - PROGRESS: at 12.06% examples, 486826 words/s, in_qsize 15, out_qsize 1\n",
      "2020-08-08 20:03:23,472 : INFO : EPOCH 14 - PROGRESS: at 18.54% examples, 497532 words/s, in_qsize 16, out_qsize 2\n",
      "2020-08-08 20:03:24,480 : INFO : EPOCH 14 - PROGRESS: at 25.15% examples, 507857 words/s, in_qsize 15, out_qsize 0\n",
      "2020-08-08 20:03:25,487 : INFO : EPOCH 14 - PROGRESS: at 31.32% examples, 507222 words/s, in_qsize 14, out_qsize 1\n",
      "2020-08-08 20:03:26,505 : INFO : EPOCH 14 - PROGRESS: at 37.37% examples, 504270 words/s, in_qsize 15, out_qsize 0\n",
      "2020-08-08 20:03:27,523 : INFO : EPOCH 14 - PROGRESS: at 43.96% examples, 508470 words/s, in_qsize 16, out_qsize 0\n",
      "2020-08-08 20:03:28,546 : INFO : EPOCH 14 - PROGRESS: at 49.49% examples, 500394 words/s, in_qsize 14, out_qsize 1\n",
      "2020-08-08 20:03:29,565 : INFO : EPOCH 14 - PROGRESS: at 54.67% examples, 491460 words/s, in_qsize 14, out_qsize 1\n",
      "2020-08-08 20:03:30,626 : INFO : EPOCH 14 - PROGRESS: at 59.12% examples, 476176 words/s, in_qsize 15, out_qsize 2\n",
      "2020-08-08 20:03:31,695 : INFO : EPOCH 14 - PROGRESS: at 65.38% examples, 476830 words/s, in_qsize 14, out_qsize 1\n",
      "2020-08-08 20:03:32,717 : INFO : EPOCH 14 - PROGRESS: at 71.78% examples, 479921 words/s, in_qsize 12, out_qsize 3\n",
      "2020-08-08 20:03:33,721 : INFO : EPOCH 14 - PROGRESS: at 77.63% examples, 479811 words/s, in_qsize 16, out_qsize 0\n",
      "2020-08-08 20:03:34,756 : INFO : EPOCH 14 - PROGRESS: at 83.29% examples, 477503 words/s, in_qsize 15, out_qsize 0\n",
      "2020-08-08 20:03:35,786 : INFO : EPOCH 14 - PROGRESS: at 88.69% examples, 474454 words/s, in_qsize 16, out_qsize 1\n",
      "2020-08-08 20:03:36,827 : INFO : EPOCH 14 - PROGRESS: at 95.34% examples, 477448 words/s, in_qsize 15, out_qsize 0\n",
      "2020-08-08 20:03:37,433 : INFO : worker thread finished; awaiting finish of 7 more threads\n",
      "2020-08-08 20:03:37,451 : INFO : worker thread finished; awaiting finish of 6 more threads\n",
      "2020-08-08 20:03:37,455 : INFO : worker thread finished; awaiting finish of 5 more threads\n",
      "2020-08-08 20:03:37,459 : INFO : worker thread finished; awaiting finish of 4 more threads\n",
      "2020-08-08 20:03:37,460 : INFO : worker thread finished; awaiting finish of 3 more threads\n",
      "2020-08-08 20:03:37,503 : INFO : worker thread finished; awaiting finish of 2 more threads\n",
      "2020-08-08 20:03:37,507 : INFO : worker thread finished; awaiting finish of 1 more threads\n",
      "2020-08-08 20:03:37,513 : INFO : worker thread finished; awaiting finish of 0 more threads\n",
      "2020-08-08 20:03:37,515 : INFO : EPOCH - 14 : training on 9227204 raw words (8221767 effective words) took 17.1s, 480673 effective words/s\n",
      "2020-08-08 20:03:38,598 : INFO : EPOCH 15 - PROGRESS: at 5.11% examples, 401673 words/s, in_qsize 15, out_qsize 5\n",
      "2020-08-08 20:03:39,610 : INFO : EPOCH 15 - PROGRESS: at 12.17% examples, 485778 words/s, in_qsize 15, out_qsize 0\n",
      "2020-08-08 20:03:40,683 : INFO : EPOCH 15 - PROGRESS: at 18.43% examples, 484199 words/s, in_qsize 15, out_qsize 0\n",
      "2020-08-08 20:03:41,687 : INFO : EPOCH 15 - PROGRESS: at 24.61% examples, 489626 words/s, in_qsize 14, out_qsize 1\n",
      "2020-08-08 20:03:42,720 : INFO : EPOCH 15 - PROGRESS: at 31.21% examples, 496825 words/s, in_qsize 14, out_qsize 1\n",
      "2020-08-08 20:03:43,730 : INFO : EPOCH 15 - PROGRESS: at 37.37% examples, 497838 words/s, in_qsize 15, out_qsize 0\n",
      "2020-08-08 20:03:44,750 : INFO : EPOCH 15 - PROGRESS: at 42.78% examples, 489167 words/s, in_qsize 15, out_qsize 0\n",
      "2020-08-08 20:03:45,773 : INFO : EPOCH 15 - PROGRESS: at 48.40% examples, 484612 words/s, in_qsize 16, out_qsize 1\n",
      "2020-08-08 20:03:46,822 : INFO : EPOCH 15 - PROGRESS: at 54.35% examples, 482646 words/s, in_qsize 14, out_qsize 1\n",
      "2020-08-08 20:03:47,864 : INFO : EPOCH 15 - PROGRESS: at 60.63% examples, 484020 words/s, in_qsize 16, out_qsize 2\n",
      "2020-08-08 20:03:48,931 : INFO : EPOCH 15 - PROGRESS: at 66.80% examples, 483214 words/s, in_qsize 15, out_qsize 0\n",
      "2020-08-08 20:03:49,934 : INFO : EPOCH 15 - PROGRESS: at 72.32% examples, 480771 words/s, in_qsize 13, out_qsize 3\n",
      "2020-08-08 20:03:50,938 : INFO : EPOCH 15 - PROGRESS: at 78.84% examples, 484607 words/s, in_qsize 14, out_qsize 1\n",
      "2020-08-08 20:03:51,952 : INFO : EPOCH 15 - PROGRESS: at 85.13% examples, 486369 words/s, in_qsize 15, out_qsize 0\n",
      "2020-08-08 20:03:52,957 : INFO : EPOCH 15 - PROGRESS: at 91.31% examples, 487559 words/s, in_qsize 16, out_qsize 1\n",
      "2020-08-08 20:03:53,994 : INFO : EPOCH 15 - PROGRESS: at 98.58% examples, 493101 words/s, in_qsize 12, out_qsize 2\n",
      "2020-08-08 20:03:54,070 : INFO : worker thread finished; awaiting finish of 7 more threads\n",
      "2020-08-08 20:03:54,078 : INFO : worker thread finished; awaiting finish of 6 more threads\n",
      "2020-08-08 20:03:54,082 : INFO : worker thread finished; awaiting finish of 5 more threads\n",
      "2020-08-08 20:03:54,085 : INFO : worker thread finished; awaiting finish of 4 more threads\n",
      "2020-08-08 20:03:54,087 : INFO : worker thread finished; awaiting finish of 3 more threads\n",
      "2020-08-08 20:03:54,121 : INFO : worker thread finished; awaiting finish of 2 more threads\n",
      "2020-08-08 20:03:54,125 : INFO : worker thread finished; awaiting finish of 1 more threads\n",
      "2020-08-08 20:03:54,126 : INFO : worker thread finished; awaiting finish of 0 more threads\n",
      "2020-08-08 20:03:54,126 : INFO : EPOCH - 15 : training on 9227204 raw words (8221804 effective words) took 16.6s, 496189 effective words/s\n",
      "2020-08-08 20:03:55,205 : INFO : EPOCH 16 - PROGRESS: at 5.86% examples, 454344 words/s, in_qsize 15, out_qsize 0\n",
      "2020-08-08 20:03:56,218 : INFO : EPOCH 16 - PROGRESS: at 11.51% examples, 455928 words/s, in_qsize 15, out_qsize 0\n",
      "2020-08-08 20:03:57,231 : INFO : EPOCH 16 - PROGRESS: at 16.27% examples, 433064 words/s, in_qsize 14, out_qsize 1\n",
      "2020-08-08 20:03:58,241 : INFO : EPOCH 16 - PROGRESS: at 22.54% examples, 452458 words/s, in_qsize 14, out_qsize 1\n",
      "2020-08-08 20:03:59,243 : INFO : EPOCH 16 - PROGRESS: at 28.72% examples, 463132 words/s, in_qsize 15, out_qsize 0\n",
      "2020-08-08 20:04:00,252 : INFO : EPOCH 16 - PROGRESS: at 34.24% examples, 461049 words/s, in_qsize 14, out_qsize 1\n"
     ]
    },
    {
     "name": "stderr",
     "output_type": "stream",
     "text": [
      "2020-08-08 20:04:01,289 : INFO : EPOCH 16 - PROGRESS: at 39.54% examples, 455202 words/s, in_qsize 14, out_qsize 3\n",
      "2020-08-08 20:04:02,302 : INFO : EPOCH 16 - PROGRESS: at 44.18% examples, 445660 words/s, in_qsize 15, out_qsize 0\n",
      "2020-08-08 20:04:03,333 : INFO : EPOCH 16 - PROGRESS: at 49.81% examples, 446052 words/s, in_qsize 15, out_qsize 0\n",
      "2020-08-08 20:04:04,374 : INFO : EPOCH 16 - PROGRESS: at 55.75% examples, 448610 words/s, in_qsize 16, out_qsize 1\n",
      "2020-08-08 20:04:05,385 : INFO : EPOCH 16 - PROGRESS: at 62.25% examples, 455843 words/s, in_qsize 14, out_qsize 1\n",
      "2020-08-08 20:04:06,387 : INFO : EPOCH 16 - PROGRESS: at 67.88% examples, 456350 words/s, in_qsize 14, out_qsize 1\n",
      "2020-08-08 20:04:07,429 : INFO : EPOCH 16 - PROGRESS: at 74.26% examples, 460088 words/s, in_qsize 14, out_qsize 1\n",
      "2020-08-08 20:04:08,485 : INFO : EPOCH 16 - PROGRESS: at 80.68% examples, 462857 words/s, in_qsize 15, out_qsize 0\n",
      "2020-08-08 20:04:09,520 : INFO : EPOCH 16 - PROGRESS: at 86.85% examples, 464717 words/s, in_qsize 15, out_qsize 0\n",
      "2020-08-08 20:04:10,547 : INFO : EPOCH 16 - PROGRESS: at 92.50% examples, 463864 words/s, in_qsize 15, out_qsize 0\n",
      "2020-08-08 20:04:11,562 : INFO : EPOCH 16 - PROGRESS: at 98.25% examples, 463936 words/s, in_qsize 16, out_qsize 0\n",
      "2020-08-08 20:04:11,777 : INFO : worker thread finished; awaiting finish of 7 more threads\n",
      "2020-08-08 20:04:11,785 : INFO : worker thread finished; awaiting finish of 6 more threads\n",
      "2020-08-08 20:04:11,802 : INFO : worker thread finished; awaiting finish of 5 more threads\n",
      "2020-08-08 20:04:11,818 : INFO : worker thread finished; awaiting finish of 4 more threads\n",
      "2020-08-08 20:04:11,841 : INFO : worker thread finished; awaiting finish of 3 more threads\n",
      "2020-08-08 20:04:11,869 : INFO : worker thread finished; awaiting finish of 2 more threads\n",
      "2020-08-08 20:04:11,878 : INFO : worker thread finished; awaiting finish of 1 more threads\n",
      "2020-08-08 20:04:11,883 : INFO : worker thread finished; awaiting finish of 0 more threads\n",
      "2020-08-08 20:04:11,887 : INFO : EPOCH - 16 : training on 9227204 raw words (8223205 effective words) took 17.7s, 463541 effective words/s\n",
      "2020-08-08 20:04:12,919 : INFO : EPOCH 17 - PROGRESS: at 5.43% examples, 441263 words/s, in_qsize 15, out_qsize 0\n",
      "2020-08-08 20:04:13,921 : INFO : EPOCH 17 - PROGRESS: at 11.62% examples, 474131 words/s, in_qsize 14, out_qsize 1\n",
      "2020-08-08 20:04:14,930 : INFO : EPOCH 17 - PROGRESS: at 17.46% examples, 474781 words/s, in_qsize 16, out_qsize 0\n",
      "2020-08-08 20:04:15,931 : INFO : EPOCH 17 - PROGRESS: at 23.09% examples, 471761 words/s, in_qsize 14, out_qsize 1\n",
      "2020-08-08 20:04:16,936 : INFO : EPOCH 17 - PROGRESS: at 28.50% examples, 466126 words/s, in_qsize 14, out_qsize 1\n",
      "2020-08-08 20:04:17,993 : INFO : EPOCH 17 - PROGRESS: at 33.92% examples, 458312 words/s, in_qsize 15, out_qsize 0\n",
      "2020-08-08 20:04:19,005 : INFO : EPOCH 17 - PROGRESS: at 39.43% examples, 457033 words/s, in_qsize 16, out_qsize 0\n",
      "2020-08-08 20:04:20,041 : INFO : EPOCH 17 - PROGRESS: at 45.37% examples, 459029 words/s, in_qsize 15, out_qsize 0\n",
      "2020-08-08 20:04:21,042 : INFO : EPOCH 17 - PROGRESS: at 51.21% examples, 461386 words/s, in_qsize 16, out_qsize 0\n",
      "2020-08-08 20:04:22,054 : INFO : EPOCH 17 - PROGRESS: at 56.84% examples, 461119 words/s, in_qsize 16, out_qsize 1\n",
      "2020-08-08 20:04:23,078 : INFO : EPOCH 17 - PROGRESS: at 63.11% examples, 465086 words/s, in_qsize 14, out_qsize 1\n",
      "2020-08-08 20:04:24,088 : INFO : EPOCH 17 - PROGRESS: at 67.88% examples, 458667 words/s, in_qsize 15, out_qsize 1\n",
      "2020-08-08 20:04:25,119 : INFO : EPOCH 17 - PROGRESS: at 71.78% examples, 447158 words/s, in_qsize 16, out_qsize 1\n",
      "2020-08-08 20:04:26,132 : INFO : EPOCH 17 - PROGRESS: at 76.66% examples, 443457 words/s, in_qsize 15, out_qsize 0\n",
      "2020-08-08 20:04:27,206 : INFO : EPOCH 17 - PROGRESS: at 81.88% examples, 440279 words/s, in_qsize 14, out_qsize 2\n",
      "2020-08-08 20:04:28,243 : INFO : EPOCH 17 - PROGRESS: at 86.10% examples, 433593 words/s, in_qsize 16, out_qsize 0\n",
      "2020-08-08 20:04:29,295 : INFO : EPOCH 17 - PROGRESS: at 90.22% examples, 427015 words/s, in_qsize 16, out_qsize 1\n",
      "2020-08-08 20:04:30,306 : INFO : EPOCH 17 - PROGRESS: at 94.14% examples, 420769 words/s, in_qsize 16, out_qsize 0\n",
      "2020-08-08 20:04:31,320 : INFO : EPOCH 17 - PROGRESS: at 97.71% examples, 413930 words/s, in_qsize 16, out_qsize 2\n",
      "2020-08-08 20:04:31,639 : INFO : worker thread finished; awaiting finish of 7 more threads\n",
      "2020-08-08 20:04:31,690 : INFO : worker thread finished; awaiting finish of 6 more threads\n",
      "2020-08-08 20:04:31,701 : INFO : worker thread finished; awaiting finish of 5 more threads\n",
      "2020-08-08 20:04:31,704 : INFO : worker thread finished; awaiting finish of 4 more threads\n",
      "2020-08-08 20:04:31,713 : INFO : worker thread finished; awaiting finish of 3 more threads\n",
      "2020-08-08 20:04:31,753 : INFO : worker thread finished; awaiting finish of 2 more threads\n",
      "2020-08-08 20:04:31,759 : INFO : worker thread finished; awaiting finish of 1 more threads\n",
      "2020-08-08 20:04:31,765 : INFO : worker thread finished; awaiting finish of 0 more threads\n",
      "2020-08-08 20:04:31,768 : INFO : EPOCH - 17 : training on 9227204 raw words (8222617 effective words) took 19.9s, 414066 effective words/s\n",
      "2020-08-08 20:04:32,847 : INFO : EPOCH 18 - PROGRESS: at 4.02% examples, 312474 words/s, in_qsize 15, out_qsize 0\n",
      "2020-08-08 20:04:33,892 : INFO : EPOCH 18 - PROGRESS: at 8.69% examples, 339388 words/s, in_qsize 14, out_qsize 1\n",
      "2020-08-08 20:04:34,893 : INFO : EPOCH 18 - PROGRESS: at 12.82% examples, 339029 words/s, in_qsize 15, out_qsize 0\n",
      "2020-08-08 20:04:35,987 : INFO : EPOCH 18 - PROGRESS: at 17.57% examples, 343951 words/s, in_qsize 9, out_qsize 6\n",
      "2020-08-08 20:04:37,025 : INFO : EPOCH 18 - PROGRESS: at 23.20% examples, 364310 words/s, in_qsize 14, out_qsize 1\n",
      "2020-08-08 20:04:38,028 : INFO : EPOCH 18 - PROGRESS: at 29.91% examples, 394264 words/s, in_qsize 15, out_qsize 0\n",
      "2020-08-08 20:04:39,046 : INFO : EPOCH 18 - PROGRESS: at 35.00% examples, 396621 words/s, in_qsize 15, out_qsize 0\n",
      "2020-08-08 20:04:40,095 : INFO : EPOCH 18 - PROGRESS: at 41.05% examples, 406617 words/s, in_qsize 15, out_qsize 2\n",
      "2020-08-08 20:04:41,151 : INFO : EPOCH 18 - PROGRESS: at 46.24% examples, 406387 words/s, in_qsize 15, out_qsize 0\n",
      "2020-08-08 20:04:42,175 : INFO : EPOCH 18 - PROGRESS: at 52.84% examples, 418704 words/s, in_qsize 15, out_qsize 0\n",
      "2020-08-08 20:04:43,217 : INFO : EPOCH 18 - PROGRESS: at 59.66% examples, 429685 words/s, in_qsize 15, out_qsize 0\n",
      "2020-08-08 20:04:44,256 : INFO : EPOCH 18 - PROGRESS: at 66.91% examples, 441730 words/s, in_qsize 15, out_qsize 0\n",
      "2020-08-08 20:04:45,275 : INFO : EPOCH 18 - PROGRESS: at 73.40% examples, 447986 words/s, in_qsize 9, out_qsize 6\n",
      "2020-08-08 20:04:46,323 : INFO : EPOCH 18 - PROGRESS: at 80.90% examples, 457967 words/s, in_qsize 16, out_qsize 0\n",
      "2020-08-08 20:04:47,351 : INFO : EPOCH 18 - PROGRESS: at 88.16% examples, 466042 words/s, in_qsize 14, out_qsize 1\n",
      "2020-08-08 20:04:48,379 : INFO : EPOCH 18 - PROGRESS: at 94.36% examples, 467743 words/s, in_qsize 15, out_qsize 0\n",
      "2020-08-08 20:04:49,158 : INFO : worker thread finished; awaiting finish of 7 more threads\n",
      "2020-08-08 20:04:49,173 : INFO : worker thread finished; awaiting finish of 6 more threads\n",
      "2020-08-08 20:04:49,179 : INFO : worker thread finished; awaiting finish of 5 more threads\n",
      "2020-08-08 20:04:49,187 : INFO : worker thread finished; awaiting finish of 4 more threads\n",
      "2020-08-08 20:04:49,205 : INFO : worker thread finished; awaiting finish of 3 more threads\n",
      "2020-08-08 20:04:49,208 : INFO : worker thread finished; awaiting finish of 2 more threads\n",
      "2020-08-08 20:04:49,234 : INFO : worker thread finished; awaiting finish of 1 more threads\n",
      "2020-08-08 20:04:49,238 : INFO : worker thread finished; awaiting finish of 0 more threads\n",
      "2020-08-08 20:04:49,240 : INFO : EPOCH - 18 : training on 9227204 raw words (8223054 effective words) took 17.4s, 471280 effective words/s\n",
      "2020-08-08 20:04:50,354 : INFO : EPOCH 19 - PROGRESS: at 5.11% examples, 381142 words/s, in_qsize 14, out_qsize 5\n",
      "2020-08-08 20:04:51,359 : INFO : EPOCH 19 - PROGRESS: at 11.84% examples, 461929 words/s, in_qsize 14, out_qsize 1\n",
      "2020-08-08 20:04:52,404 : INFO : EPOCH 19 - PROGRESS: at 18.54% examples, 483711 words/s, in_qsize 15, out_qsize 0\n"
     ]
    },
    {
     "name": "stderr",
     "output_type": "stream",
     "text": [
      "2020-08-08 20:04:53,412 : INFO : EPOCH 19 - PROGRESS: at 24.61% examples, 486526 words/s, in_qsize 16, out_qsize 1\n",
      "2020-08-08 20:04:54,441 : INFO : EPOCH 19 - PROGRESS: at 31.54% examples, 499901 words/s, in_qsize 15, out_qsize 4\n",
      "2020-08-08 20:04:55,453 : INFO : EPOCH 19 - PROGRESS: at 38.46% examples, 510251 words/s, in_qsize 16, out_qsize 0\n",
      "2020-08-08 20:04:56,457 : INFO : EPOCH 19 - PROGRESS: at 45.27% examples, 517034 words/s, in_qsize 16, out_qsize 0\n",
      "2020-08-08 20:04:57,469 : INFO : EPOCH 19 - PROGRESS: at 52.07% examples, 521737 words/s, in_qsize 15, out_qsize 0\n",
      "2020-08-08 20:04:58,480 : INFO : EPOCH 19 - PROGRESS: at 58.58% examples, 522519 words/s, in_qsize 14, out_qsize 1\n",
      "2020-08-08 20:04:59,509 : INFO : EPOCH 19 - PROGRESS: at 65.61% examples, 526555 words/s, in_qsize 16, out_qsize 1\n",
      "2020-08-08 20:05:00,511 : INFO : EPOCH 19 - PROGRESS: at 72.31% examples, 528723 words/s, in_qsize 13, out_qsize 2\n",
      "2020-08-08 20:05:01,554 : INFO : EPOCH 19 - PROGRESS: at 79.71% examples, 533127 words/s, in_qsize 15, out_qsize 0\n",
      "2020-08-08 20:05:02,554 : INFO : EPOCH 19 - PROGRESS: at 86.75% examples, 536530 words/s, in_qsize 15, out_qsize 0\n",
      "2020-08-08 20:05:03,560 : INFO : EPOCH 19 - PROGRESS: at 92.94% examples, 534231 words/s, in_qsize 13, out_qsize 2\n",
      "2020-08-08 20:05:04,569 : INFO : EPOCH 19 - PROGRESS: at 99.23% examples, 532754 words/s, in_qsize 8, out_qsize 0\n",
      "2020-08-08 20:05:04,576 : INFO : worker thread finished; awaiting finish of 7 more threads\n",
      "2020-08-08 20:05:04,577 : INFO : worker thread finished; awaiting finish of 6 more threads\n",
      "2020-08-08 20:05:04,582 : INFO : worker thread finished; awaiting finish of 5 more threads\n",
      "2020-08-08 20:05:04,584 : INFO : worker thread finished; awaiting finish of 4 more threads\n",
      "2020-08-08 20:05:04,611 : INFO : worker thread finished; awaiting finish of 3 more threads\n",
      "2020-08-08 20:05:04,619 : INFO : worker thread finished; awaiting finish of 2 more threads\n",
      "2020-08-08 20:05:04,628 : INFO : worker thread finished; awaiting finish of 1 more threads\n",
      "2020-08-08 20:05:04,635 : INFO : worker thread finished; awaiting finish of 0 more threads\n",
      "2020-08-08 20:05:04,638 : INFO : EPOCH - 19 : training on 9227204 raw words (8221438 effective words) took 15.4s, 534480 effective words/s\n",
      "2020-08-08 20:05:05,693 : INFO : EPOCH 20 - PROGRESS: at 4.78% examples, 377342 words/s, in_qsize 15, out_qsize 0\n",
      "2020-08-08 20:05:06,710 : INFO : EPOCH 20 - PROGRESS: at 10.10% examples, 403341 words/s, in_qsize 16, out_qsize 0\n",
      "2020-08-08 20:05:07,718 : INFO : EPOCH 20 - PROGRESS: at 16.70% examples, 447936 words/s, in_qsize 15, out_qsize 0\n",
      "2020-08-08 20:05:08,727 : INFO : EPOCH 20 - PROGRESS: at 22.98% examples, 463940 words/s, in_qsize 14, out_qsize 1\n",
      "2020-08-08 20:05:09,798 : INFO : EPOCH 20 - PROGRESS: at 29.80% examples, 476433 words/s, in_qsize 14, out_qsize 2\n",
      "2020-08-08 20:05:10,836 : INFO : EPOCH 20 - PROGRESS: at 36.07% examples, 480007 words/s, in_qsize 15, out_qsize 0\n",
      "2020-08-08 20:05:11,914 : INFO : EPOCH 20 - PROGRESS: at 41.70% examples, 472515 words/s, in_qsize 15, out_qsize 1\n",
      "2020-08-08 20:05:12,914 : INFO : EPOCH 20 - PROGRESS: at 47.65% examples, 474601 words/s, in_qsize 15, out_qsize 0\n",
      "2020-08-08 20:05:13,926 : INFO : EPOCH 20 - PROGRESS: at 53.70% examples, 476637 words/s, in_qsize 15, out_qsize 0\n",
      "2020-08-08 20:05:14,941 : INFO : EPOCH 20 - PROGRESS: at 60.74% examples, 485977 words/s, in_qsize 16, out_qsize 0\n",
      "2020-08-08 20:05:15,953 : INFO : EPOCH 20 - PROGRESS: at 67.88% examples, 494466 words/s, in_qsize 16, out_qsize 1\n",
      "2020-08-08 20:05:16,998 : INFO : EPOCH 20 - PROGRESS: at 74.60% examples, 497306 words/s, in_qsize 16, out_qsize 1\n",
      "2020-08-08 20:05:18,001 : INFO : EPOCH 20 - PROGRESS: at 81.23% examples, 500622 words/s, in_qsize 15, out_qsize 0\n",
      "2020-08-08 20:05:19,002 : INFO : EPOCH 20 - PROGRESS: at 88.37% examples, 506667 words/s, in_qsize 16, out_qsize 0\n",
      "2020-08-08 20:05:20,008 : INFO : EPOCH 20 - PROGRESS: at 95.12% examples, 509369 words/s, in_qsize 16, out_qsize 0\n",
      "2020-08-08 20:05:20,603 : INFO : worker thread finished; awaiting finish of 7 more threads\n",
      "2020-08-08 20:05:20,615 : INFO : worker thread finished; awaiting finish of 6 more threads\n",
      "2020-08-08 20:05:20,619 : INFO : worker thread finished; awaiting finish of 5 more threads\n",
      "2020-08-08 20:05:20,623 : INFO : worker thread finished; awaiting finish of 4 more threads\n",
      "2020-08-08 20:05:20,646 : INFO : worker thread finished; awaiting finish of 3 more threads\n",
      "2020-08-08 20:05:20,656 : INFO : worker thread finished; awaiting finish of 2 more threads\n",
      "2020-08-08 20:05:20,673 : INFO : worker thread finished; awaiting finish of 1 more threads\n",
      "2020-08-08 20:05:20,677 : INFO : worker thread finished; awaiting finish of 0 more threads\n",
      "2020-08-08 20:05:20,678 : INFO : EPOCH - 20 : training on 9227204 raw words (8221646 effective words) took 16.0s, 513137 effective words/s\n",
      "2020-08-08 20:05:21,743 : INFO : EPOCH 21 - PROGRESS: at 5.86% examples, 461409 words/s, in_qsize 14, out_qsize 1\n",
      "2020-08-08 20:05:22,759 : INFO : EPOCH 21 - PROGRESS: at 12.71% examples, 506319 words/s, in_qsize 15, out_qsize 0\n",
      "2020-08-08 20:05:23,804 : INFO : EPOCH 21 - PROGRESS: at 19.94% examples, 527995 words/s, in_qsize 15, out_qsize 0\n",
      "2020-08-08 20:05:24,827 : INFO : EPOCH 21 - PROGRESS: at 26.67% examples, 530994 words/s, in_qsize 15, out_qsize 0\n",
      "2020-08-08 20:05:25,836 : INFO : EPOCH 21 - PROGRESS: at 33.48% examples, 535913 words/s, in_qsize 16, out_qsize 1\n",
      "2020-08-08 20:05:26,843 : INFO : EPOCH 21 - PROGRESS: at 40.41% examples, 540964 words/s, in_qsize 13, out_qsize 2\n",
      "2020-08-08 20:05:27,847 : INFO : EPOCH 21 - PROGRESS: at 47.43% examples, 545975 words/s, in_qsize 15, out_qsize 0\n",
      "2020-08-08 20:05:28,853 : INFO : EPOCH 21 - PROGRESS: at 54.35% examples, 548616 words/s, in_qsize 15, out_qsize 0\n",
      "2020-08-08 20:05:29,861 : INFO : EPOCH 21 - PROGRESS: at 61.07% examples, 548581 words/s, in_qsize 16, out_qsize 0\n",
      "2020-08-08 20:05:30,880 : INFO : EPOCH 21 - PROGRESS: at 68.32% examples, 552305 words/s, in_qsize 15, out_qsize 0\n",
      "2020-08-08 20:05:31,897 : INFO : EPOCH 21 - PROGRESS: at 75.24% examples, 552960 words/s, in_qsize 15, out_qsize 0\n",
      "2020-08-08 20:05:32,931 : INFO : EPOCH 21 - PROGRESS: at 82.64% examples, 555775 words/s, in_qsize 14, out_qsize 1\n",
      "2020-08-08 20:05:33,963 : INFO : EPOCH 21 - PROGRESS: at 89.78% examples, 556850 words/s, in_qsize 14, out_qsize 1\n",
      "2020-08-08 20:05:34,991 : INFO : EPOCH 21 - PROGRESS: at 96.85% examples, 557275 words/s, in_qsize 14, out_qsize 1\n",
      "2020-08-08 20:05:35,303 : INFO : worker thread finished; awaiting finish of 7 more threads\n",
      "2020-08-08 20:05:35,308 : INFO : worker thread finished; awaiting finish of 6 more threads\n",
      "2020-08-08 20:05:35,310 : INFO : worker thread finished; awaiting finish of 5 more threads\n",
      "2020-08-08 20:05:35,312 : INFO : worker thread finished; awaiting finish of 4 more threads\n",
      "2020-08-08 20:05:35,327 : INFO : worker thread finished; awaiting finish of 3 more threads\n",
      "2020-08-08 20:05:35,344 : INFO : worker thread finished; awaiting finish of 2 more threads\n",
      "2020-08-08 20:05:35,353 : INFO : worker thread finished; awaiting finish of 1 more threads\n",
      "2020-08-08 20:05:35,357 : INFO : worker thread finished; awaiting finish of 0 more threads\n",
      "2020-08-08 20:05:35,359 : INFO : EPOCH - 21 : training on 9227204 raw words (8223521 effective words) took 14.7s, 561020 effective words/s\n",
      "2020-08-08 20:05:36,397 : INFO : EPOCH 22 - PROGRESS: at 5.32% examples, 428609 words/s, in_qsize 15, out_qsize 0\n",
      "2020-08-08 20:05:37,410 : INFO : EPOCH 22 - PROGRESS: at 11.95% examples, 482479 words/s, in_qsize 15, out_qsize 0\n",
      "2020-08-08 20:05:38,426 : INFO : EPOCH 22 - PROGRESS: at 18.32% examples, 493874 words/s, in_qsize 14, out_qsize 2\n",
      "2020-08-08 20:05:39,453 : INFO : EPOCH 22 - PROGRESS: at 25.26% examples, 509447 words/s, in_qsize 15, out_qsize 3\n",
      "2020-08-08 20:05:40,480 : INFO : EPOCH 22 - PROGRESS: at 32.19% examples, 518512 words/s, in_qsize 16, out_qsize 1\n",
      "2020-08-08 20:05:41,482 : INFO : EPOCH 22 - PROGRESS: at 39.22% examples, 528257 words/s, in_qsize 15, out_qsize 0\n",
      "2020-08-08 20:05:42,496 : INFO : EPOCH 22 - PROGRESS: at 46.35% examples, 535622 words/s, in_qsize 16, out_qsize 0\n",
      "2020-08-08 20:05:43,513 : INFO : EPOCH 22 - PROGRESS: at 53.48% examples, 540932 words/s, in_qsize 15, out_qsize 0\n"
     ]
    },
    {
     "name": "stderr",
     "output_type": "stream",
     "text": [
      "2020-08-08 20:05:44,529 : INFO : EPOCH 22 - PROGRESS: at 60.30% examples, 542276 words/s, in_qsize 15, out_qsize 0\n",
      "2020-08-08 20:05:45,535 : INFO : EPOCH 22 - PROGRESS: at 66.69% examples, 540301 words/s, in_qsize 15, out_qsize 1\n",
      "2020-08-08 20:05:46,543 : INFO : EPOCH 22 - PROGRESS: at 73.84% examples, 544179 words/s, in_qsize 16, out_qsize 0\n",
      "2020-08-08 20:05:47,554 : INFO : EPOCH 22 - PROGRESS: at 80.80% examples, 545816 words/s, in_qsize 14, out_qsize 1\n",
      "2020-08-08 20:05:48,614 : INFO : EPOCH 22 - PROGRESS: at 88.16% examples, 547843 words/s, in_qsize 15, out_qsize 0\n",
      "2020-08-08 20:05:49,621 : INFO : EPOCH 22 - PROGRESS: at 95.34% examples, 550355 words/s, in_qsize 16, out_qsize 0\n",
      "2020-08-08 20:05:50,167 : INFO : worker thread finished; awaiting finish of 7 more threads\n",
      "2020-08-08 20:05:50,174 : INFO : worker thread finished; awaiting finish of 6 more threads\n",
      "2020-08-08 20:05:50,179 : INFO : worker thread finished; awaiting finish of 5 more threads\n",
      "2020-08-08 20:05:50,182 : INFO : worker thread finished; awaiting finish of 4 more threads\n",
      "2020-08-08 20:05:50,194 : INFO : worker thread finished; awaiting finish of 3 more threads\n",
      "2020-08-08 20:05:50,196 : INFO : worker thread finished; awaiting finish of 2 more threads\n",
      "2020-08-08 20:05:50,216 : INFO : worker thread finished; awaiting finish of 1 more threads\n",
      "2020-08-08 20:05:50,218 : INFO : worker thread finished; awaiting finish of 0 more threads\n",
      "2020-08-08 20:05:50,220 : INFO : EPOCH - 22 : training on 9227204 raw words (8223251 effective words) took 14.8s, 554070 effective words/s\n",
      "2020-08-08 20:05:51,291 : INFO : EPOCH 23 - PROGRESS: at 6.08% examples, 472458 words/s, in_qsize 11, out_qsize 4\n",
      "2020-08-08 20:05:52,308 : INFO : EPOCH 23 - PROGRESS: at 12.82% examples, 507366 words/s, in_qsize 14, out_qsize 4\n",
      "2020-08-08 20:05:53,312 : INFO : EPOCH 23 - PROGRESS: at 20.05% examples, 535467 words/s, in_qsize 13, out_qsize 2\n",
      "2020-08-08 20:05:54,315 : INFO : EPOCH 23 - PROGRESS: at 26.88% examples, 541611 words/s, in_qsize 15, out_qsize 0\n",
      "2020-08-08 20:05:55,322 : INFO : EPOCH 23 - PROGRESS: at 34.13% examples, 551731 words/s, in_qsize 16, out_qsize 0\n",
      "2020-08-08 20:05:56,360 : INFO : EPOCH 23 - PROGRESS: at 41.16% examples, 552678 words/s, in_qsize 14, out_qsize 1\n",
      "2020-08-08 20:05:57,361 : INFO : EPOCH 23 - PROGRESS: at 48.08% examples, 555051 words/s, in_qsize 12, out_qsize 3\n",
      "2020-08-08 20:05:58,365 : INFO : EPOCH 23 - PROGRESS: at 55.21% examples, 558951 words/s, in_qsize 16, out_qsize 0\n",
      "2020-08-08 20:05:59,366 : INFO : EPOCH 23 - PROGRESS: at 62.14% examples, 560059 words/s, in_qsize 16, out_qsize 0\n",
      "2020-08-08 20:06:00,406 : INFO : EPOCH 23 - PROGRESS: at 69.07% examples, 558816 words/s, in_qsize 16, out_qsize 0\n",
      "2020-08-08 20:06:01,434 : INFO : EPOCH 23 - PROGRESS: at 76.11% examples, 559229 words/s, in_qsize 15, out_qsize 2\n",
      "2020-08-08 20:06:02,437 : INFO : EPOCH 23 - PROGRESS: at 83.29% examples, 561414 words/s, in_qsize 13, out_qsize 2\n",
      "2020-08-08 20:06:03,451 : INFO : EPOCH 23 - PROGRESS: at 90.54% examples, 563489 words/s, in_qsize 15, out_qsize 0\n",
      "2020-08-08 20:06:04,475 : INFO : EPOCH 23 - PROGRESS: at 97.29% examples, 561742 words/s, in_qsize 16, out_qsize 0\n",
      "2020-08-08 20:06:04,706 : INFO : worker thread finished; awaiting finish of 7 more threads\n",
      "2020-08-08 20:06:04,729 : INFO : worker thread finished; awaiting finish of 6 more threads\n",
      "2020-08-08 20:06:04,732 : INFO : worker thread finished; awaiting finish of 5 more threads\n",
      "2020-08-08 20:06:04,736 : INFO : worker thread finished; awaiting finish of 4 more threads\n",
      "2020-08-08 20:06:04,761 : INFO : worker thread finished; awaiting finish of 3 more threads\n",
      "2020-08-08 20:06:04,772 : INFO : worker thread finished; awaiting finish of 2 more threads\n",
      "2020-08-08 20:06:04,776 : INFO : worker thread finished; awaiting finish of 1 more threads\n",
      "2020-08-08 20:06:04,787 : INFO : worker thread finished; awaiting finish of 0 more threads\n",
      "2020-08-08 20:06:04,789 : INFO : EPOCH - 23 : training on 9227204 raw words (8222052 effective words) took 14.6s, 564997 effective words/s\n",
      "2020-08-08 20:06:05,818 : INFO : EPOCH 24 - PROGRESS: at 6.29% examples, 514816 words/s, in_qsize 15, out_qsize 0\n",
      "2020-08-08 20:06:06,843 : INFO : EPOCH 24 - PROGRESS: at 13.47% examples, 544580 words/s, in_qsize 15, out_qsize 0\n",
      "2020-08-08 20:06:07,866 : INFO : EPOCH 24 - PROGRESS: at 20.27% examples, 545604 words/s, in_qsize 14, out_qsize 1\n",
      "2020-08-08 20:06:08,867 : INFO : EPOCH 24 - PROGRESS: at 26.56% examples, 538376 words/s, in_qsize 15, out_qsize 0\n",
      "2020-08-08 20:06:09,891 : INFO : EPOCH 24 - PROGRESS: at 33.05% examples, 535128 words/s, in_qsize 13, out_qsize 2\n",
      "2020-08-08 20:06:10,895 : INFO : EPOCH 24 - PROGRESS: at 39.76% examples, 537593 words/s, in_qsize 15, out_qsize 0\n",
      "2020-08-08 20:06:11,913 : INFO : EPOCH 24 - PROGRESS: at 46.89% examples, 543395 words/s, in_qsize 15, out_qsize 0\n",
      "2020-08-08 20:06:12,969 : INFO : EPOCH 24 - PROGRESS: at 53.48% examples, 539673 words/s, in_qsize 15, out_qsize 0\n",
      "2020-08-08 20:06:13,971 : INFO : EPOCH 24 - PROGRESS: at 60.52% examples, 543876 words/s, in_qsize 15, out_qsize 0\n",
      "2020-08-08 20:06:15,006 : INFO : EPOCH 24 - PROGRESS: at 67.99% examples, 548939 words/s, in_qsize 14, out_qsize 1\n",
      "2020-08-08 20:06:16,051 : INFO : EPOCH 24 - PROGRESS: at 75.02% examples, 549406 words/s, in_qsize 15, out_qsize 0\n",
      "2020-08-08 20:06:17,063 : INFO : EPOCH 24 - PROGRESS: at 82.21% examples, 551986 words/s, in_qsize 15, out_qsize 0\n",
      "2020-08-08 20:06:18,067 : INFO : EPOCH 24 - PROGRESS: at 89.02% examples, 552496 words/s, in_qsize 14, out_qsize 1\n",
      "2020-08-08 20:06:19,070 : INFO : EPOCH 24 - PROGRESS: at 95.99% examples, 553539 words/s, in_qsize 15, out_qsize 0\n",
      "2020-08-08 20:06:19,492 : INFO : worker thread finished; awaiting finish of 7 more threads\n",
      "2020-08-08 20:06:19,508 : INFO : worker thread finished; awaiting finish of 6 more threads\n",
      "2020-08-08 20:06:19,515 : INFO : worker thread finished; awaiting finish of 5 more threads\n",
      "2020-08-08 20:06:19,519 : INFO : worker thread finished; awaiting finish of 4 more threads\n",
      "2020-08-08 20:06:19,548 : INFO : worker thread finished; awaiting finish of 3 more threads\n",
      "2020-08-08 20:06:19,554 : INFO : worker thread finished; awaiting finish of 2 more threads\n",
      "2020-08-08 20:06:19,557 : INFO : worker thread finished; awaiting finish of 1 more threads\n",
      "2020-08-08 20:06:19,567 : INFO : worker thread finished; awaiting finish of 0 more threads\n",
      "2020-08-08 20:06:19,569 : INFO : EPOCH - 24 : training on 9227204 raw words (8222103 effective words) took 14.8s, 557254 effective words/s\n",
      "2020-08-08 20:06:20,603 : INFO : EPOCH 25 - PROGRESS: at 6.18% examples, 499127 words/s, in_qsize 16, out_qsize 1\n",
      "2020-08-08 20:06:21,651 : INFO : EPOCH 25 - PROGRESS: at 13.36% examples, 531055 words/s, in_qsize 14, out_qsize 1\n",
      "2020-08-08 20:06:22,688 : INFO : EPOCH 25 - PROGRESS: at 20.38% examples, 540058 words/s, in_qsize 16, out_qsize 1\n",
      "2020-08-08 20:06:23,706 : INFO : EPOCH 25 - PROGRESS: at 27.75% examples, 553653 words/s, in_qsize 15, out_qsize 0\n",
      "2020-08-08 20:06:24,709 : INFO : EPOCH 25 - PROGRESS: at 34.57% examples, 554806 words/s, in_qsize 15, out_qsize 0\n",
      "2020-08-08 20:06:25,733 : INFO : EPOCH 25 - PROGRESS: at 41.16% examples, 550683 words/s, in_qsize 15, out_qsize 0\n",
      "2020-08-08 20:06:26,767 : INFO : EPOCH 25 - PROGRESS: at 47.86% examples, 548435 words/s, in_qsize 15, out_qsize 2\n",
      "2020-08-08 20:06:27,783 : INFO : EPOCH 25 - PROGRESS: at 54.89% examples, 551098 words/s, in_qsize 15, out_qsize 0\n",
      "2020-08-08 20:06:28,788 : INFO : EPOCH 25 - PROGRESS: at 61.50% examples, 550002 words/s, in_qsize 15, out_qsize 1\n",
      "2020-08-08 20:06:29,810 : INFO : EPOCH 25 - PROGRESS: at 68.43% examples, 550727 words/s, in_qsize 16, out_qsize 0\n",
      "2020-08-08 20:06:30,819 : INFO : EPOCH 25 - PROGRESS: at 75.03% examples, 549633 words/s, in_qsize 13, out_qsize 2\n",
      "2020-08-08 20:06:31,828 : INFO : EPOCH 25 - PROGRESS: at 81.99% examples, 550904 words/s, in_qsize 15, out_qsize 0\n",
      "2020-08-08 20:06:32,875 : INFO : EPOCH 25 - PROGRESS: at 88.27% examples, 546374 words/s, in_qsize 15, out_qsize 1\n",
      "2020-08-08 20:06:33,923 : INFO : EPOCH 25 - PROGRESS: at 94.14% examples, 539940 words/s, in_qsize 15, out_qsize 0\n",
      "2020-08-08 20:06:34,654 : INFO : worker thread finished; awaiting finish of 7 more threads\n"
     ]
    },
    {
     "name": "stderr",
     "output_type": "stream",
     "text": [
      "2020-08-08 20:06:34,680 : INFO : worker thread finished; awaiting finish of 6 more threads\n",
      "2020-08-08 20:06:34,683 : INFO : worker thread finished; awaiting finish of 5 more threads\n",
      "2020-08-08 20:06:34,686 : INFO : worker thread finished; awaiting finish of 4 more threads\n",
      "2020-08-08 20:06:34,715 : INFO : worker thread finished; awaiting finish of 3 more threads\n",
      "2020-08-08 20:06:34,719 : INFO : worker thread finished; awaiting finish of 2 more threads\n",
      "2020-08-08 20:06:34,723 : INFO : worker thread finished; awaiting finish of 1 more threads\n",
      "2020-08-08 20:06:34,735 : INFO : worker thread finished; awaiting finish of 0 more threads\n",
      "2020-08-08 20:06:34,738 : INFO : EPOCH - 25 : training on 9227204 raw words (8222684 effective words) took 15.2s, 542724 effective words/s\n",
      "2020-08-08 20:06:35,782 : INFO : EPOCH 26 - PROGRESS: at 5.00% examples, 400233 words/s, in_qsize 15, out_qsize 0\n",
      "2020-08-08 20:06:36,785 : INFO : EPOCH 26 - PROGRESS: at 10.42% examples, 421738 words/s, in_qsize 15, out_qsize 0\n",
      "2020-08-08 20:06:37,796 : INFO : EPOCH 26 - PROGRESS: at 17.02% examples, 460214 words/s, in_qsize 16, out_qsize 0\n",
      "2020-08-08 20:06:38,801 : INFO : EPOCH 26 - PROGRESS: at 23.96% examples, 486948 words/s, in_qsize 15, out_qsize 0\n",
      "2020-08-08 20:06:39,834 : INFO : EPOCH 26 - PROGRESS: at 30.56% examples, 494835 words/s, in_qsize 15, out_qsize 0\n",
      "2020-08-08 20:06:40,849 : INFO : EPOCH 26 - PROGRESS: at 36.83% examples, 497212 words/s, in_qsize 16, out_qsize 1\n",
      "2020-08-08 20:06:41,854 : INFO : EPOCH 26 - PROGRESS: at 42.89% examples, 497113 words/s, in_qsize 14, out_qsize 2\n",
      "2020-08-08 20:06:42,888 : INFO : EPOCH 26 - PROGRESS: at 49.05% examples, 496346 words/s, in_qsize 15, out_qsize 0\n",
      "2020-08-08 20:06:43,891 : INFO : EPOCH 26 - PROGRESS: at 55.53% examples, 500388 words/s, in_qsize 15, out_qsize 0\n",
      "2020-08-08 20:06:44,897 : INFO : EPOCH 26 - PROGRESS: at 61.71% examples, 500798 words/s, in_qsize 14, out_qsize 1\n",
      "2020-08-08 20:06:45,922 : INFO : EPOCH 26 - PROGRESS: at 68.21% examples, 502686 words/s, in_qsize 16, out_qsize 0\n",
      "2020-08-08 20:06:46,958 : INFO : EPOCH 26 - PROGRESS: at 74.80% examples, 504510 words/s, in_qsize 13, out_qsize 2\n",
      "2020-08-08 20:06:47,965 : INFO : EPOCH 26 - PROGRESS: at 81.88% examples, 509923 words/s, in_qsize 15, out_qsize 0\n",
      "2020-08-08 20:06:48,972 : INFO : EPOCH 26 - PROGRESS: at 89.02% examples, 515160 words/s, in_qsize 14, out_qsize 1\n",
      "2020-08-08 20:06:49,974 : INFO : EPOCH 26 - PROGRESS: at 96.10% examples, 519230 words/s, in_qsize 16, out_qsize 1\n",
      "2020-08-08 20:06:50,447 : INFO : worker thread finished; awaiting finish of 7 more threads\n",
      "2020-08-08 20:06:50,451 : INFO : worker thread finished; awaiting finish of 6 more threads\n",
      "2020-08-08 20:06:50,453 : INFO : worker thread finished; awaiting finish of 5 more threads\n",
      "2020-08-08 20:06:50,472 : INFO : worker thread finished; awaiting finish of 4 more threads\n",
      "2020-08-08 20:06:50,485 : INFO : worker thread finished; awaiting finish of 3 more threads\n",
      "2020-08-08 20:06:50,501 : INFO : worker thread finished; awaiting finish of 2 more threads\n",
      "2020-08-08 20:06:50,514 : INFO : worker thread finished; awaiting finish of 1 more threads\n",
      "2020-08-08 20:06:50,517 : INFO : worker thread finished; awaiting finish of 0 more threads\n",
      "2020-08-08 20:06:50,518 : INFO : EPOCH - 26 : training on 9227204 raw words (8222846 effective words) took 15.8s, 521749 effective words/s\n",
      "2020-08-08 20:06:51,549 : INFO : EPOCH 27 - PROGRESS: at 5.97% examples, 483253 words/s, in_qsize 15, out_qsize 0\n",
      "2020-08-08 20:06:52,606 : INFO : EPOCH 27 - PROGRESS: at 12.50% examples, 495095 words/s, in_qsize 15, out_qsize 0\n",
      "2020-08-08 20:06:53,617 : INFO : EPOCH 27 - PROGRESS: at 18.76% examples, 500216 words/s, in_qsize 14, out_qsize 2\n",
      "2020-08-08 20:06:54,621 : INFO : EPOCH 27 - PROGRESS: at 25.37% examples, 510353 words/s, in_qsize 13, out_qsize 2\n",
      "2020-08-08 20:06:55,681 : INFO : EPOCH 27 - PROGRESS: at 32.30% examples, 516057 words/s, in_qsize 14, out_qsize 1\n",
      "2020-08-08 20:06:56,683 : INFO : EPOCH 27 - PROGRESS: at 38.68% examples, 517377 words/s, in_qsize 15, out_qsize 0\n",
      "2020-08-08 20:06:57,691 : INFO : EPOCH 27 - PROGRESS: at 44.07% examples, 506744 words/s, in_qsize 14, out_qsize 1\n",
      "2020-08-08 20:06:58,711 : INFO : EPOCH 27 - PROGRESS: at 49.70% examples, 500276 words/s, in_qsize 15, out_qsize 0\n",
      "2020-08-08 20:06:59,735 : INFO : EPOCH 27 - PROGRESS: at 55.97% examples, 500760 words/s, in_qsize 15, out_qsize 0\n",
      "2020-08-08 20:07:00,749 : INFO : EPOCH 27 - PROGRESS: at 62.14% examples, 500756 words/s, in_qsize 15, out_qsize 0\n",
      "2020-08-08 20:07:01,752 : INFO : EPOCH 27 - PROGRESS: at 68.10% examples, 499661 words/s, in_qsize 15, out_qsize 0\n",
      "2020-08-08 20:07:02,761 : INFO : EPOCH 27 - PROGRESS: at 73.94% examples, 497781 words/s, in_qsize 11, out_qsize 4\n",
      "2020-08-08 20:07:03,764 : INFO : EPOCH 27 - PROGRESS: at 80.80% examples, 502437 words/s, in_qsize 15, out_qsize 2\n",
      "2020-08-08 20:07:04,799 : INFO : EPOCH 27 - PROGRESS: at 87.83% examples, 506557 words/s, in_qsize 14, out_qsize 1\n",
      "2020-08-08 20:07:05,829 : INFO : EPOCH 27 - PROGRESS: at 94.14% examples, 506184 words/s, in_qsize 15, out_qsize 0\n",
      "2020-08-08 20:07:06,657 : INFO : worker thread finished; awaiting finish of 7 more threads\n",
      "2020-08-08 20:07:06,663 : INFO : worker thread finished; awaiting finish of 6 more threads\n",
      "2020-08-08 20:07:06,665 : INFO : worker thread finished; awaiting finish of 5 more threads\n",
      "2020-08-08 20:07:06,666 : INFO : worker thread finished; awaiting finish of 4 more threads\n",
      "2020-08-08 20:07:06,670 : INFO : worker thread finished; awaiting finish of 3 more threads\n",
      "2020-08-08 20:07:06,696 : INFO : worker thread finished; awaiting finish of 2 more threads\n",
      "2020-08-08 20:07:06,705 : INFO : worker thread finished; awaiting finish of 1 more threads\n",
      "2020-08-08 20:07:06,708 : INFO : worker thread finished; awaiting finish of 0 more threads\n",
      "2020-08-08 20:07:06,710 : INFO : EPOCH - 27 : training on 9227204 raw words (8223401 effective words) took 16.2s, 508454 effective words/s\n",
      "2020-08-08 20:07:07,742 : INFO : EPOCH 28 - PROGRESS: at 5.43% examples, 439007 words/s, in_qsize 14, out_qsize 1\n",
      "2020-08-08 20:07:08,779 : INFO : EPOCH 28 - PROGRESS: at 11.84% examples, 473251 words/s, in_qsize 15, out_qsize 2\n",
      "2020-08-08 20:07:09,784 : INFO : EPOCH 28 - PROGRESS: at 18.22% examples, 489604 words/s, in_qsize 15, out_qsize 0\n",
      "2020-08-08 20:07:10,788 : INFO : EPOCH 28 - PROGRESS: at 24.61% examples, 498112 words/s, in_qsize 15, out_qsize 0\n",
      "2020-08-08 20:07:11,802 : INFO : EPOCH 28 - PROGRESS: at 30.89% examples, 500409 words/s, in_qsize 15, out_qsize 0\n",
      "2020-08-08 20:07:12,826 : INFO : EPOCH 28 - PROGRESS: at 36.94% examples, 498092 words/s, in_qsize 13, out_qsize 2\n",
      "2020-08-08 20:07:13,854 : INFO : EPOCH 28 - PROGRESS: at 43.10% examples, 497531 words/s, in_qsize 15, out_qsize 2\n",
      "2020-08-08 20:07:14,898 : INFO : EPOCH 28 - PROGRESS: at 49.92% examples, 502678 words/s, in_qsize 15, out_qsize 0\n",
      "2020-08-08 20:07:15,934 : INFO : EPOCH 28 - PROGRESS: at 56.84% examples, 508106 words/s, in_qsize 15, out_qsize 0\n",
      "2020-08-08 20:07:16,972 : INFO : EPOCH 28 - PROGRESS: at 63.33% examples, 508787 words/s, in_qsize 15, out_qsize 0\n",
      "2020-08-08 20:07:17,999 : INFO : EPOCH 28 - PROGRESS: at 69.40% examples, 506725 words/s, in_qsize 15, out_qsize 0\n",
      "2020-08-08 20:07:19,008 : INFO : EPOCH 28 - PROGRESS: at 75.67% examples, 507113 words/s, in_qsize 15, out_qsize 0\n",
      "2020-08-08 20:07:20,009 : INFO : EPOCH 28 - PROGRESS: at 80.68% examples, 499754 words/s, in_qsize 12, out_qsize 3\n",
      "2020-08-08 20:07:21,041 : INFO : EPOCH 28 - PROGRESS: at 86.53% examples, 497345 words/s, in_qsize 14, out_qsize 4\n",
      "2020-08-08 20:07:22,043 : INFO : EPOCH 28 - PROGRESS: at 92.72% examples, 497919 words/s, in_qsize 14, out_qsize 1\n",
      "2020-08-08 20:07:23,048 : INFO : EPOCH 28 - PROGRESS: at 99.01% examples, 498902 words/s, in_qsize 9, out_qsize 1\n",
      "2020-08-08 20:07:23,133 : INFO : worker thread finished; awaiting finish of 7 more threads\n",
      "2020-08-08 20:07:23,137 : INFO : worker thread finished; awaiting finish of 6 more threads\n",
      "2020-08-08 20:07:23,146 : INFO : worker thread finished; awaiting finish of 5 more threads\n",
      "2020-08-08 20:07:23,149 : INFO : worker thread finished; awaiting finish of 4 more threads\n",
      "2020-08-08 20:07:23,195 : INFO : worker thread finished; awaiting finish of 3 more threads\n"
     ]
    },
    {
     "name": "stderr",
     "output_type": "stream",
     "text": [
      "2020-08-08 20:07:23,200 : INFO : worker thread finished; awaiting finish of 2 more threads\n",
      "2020-08-08 20:07:23,206 : INFO : worker thread finished; awaiting finish of 1 more threads\n",
      "2020-08-08 20:07:23,215 : INFO : worker thread finished; awaiting finish of 0 more threads\n",
      "2020-08-08 20:07:23,216 : INFO : EPOCH - 28 : training on 9227204 raw words (8223611 effective words) took 16.5s, 498734 effective words/s\n",
      "2020-08-08 20:07:24,285 : INFO : EPOCH 29 - PROGRESS: at 5.43% examples, 429798 words/s, in_qsize 15, out_qsize 0\n",
      "2020-08-08 20:07:25,289 : INFO : EPOCH 29 - PROGRESS: at 11.62% examples, 467386 words/s, in_qsize 14, out_qsize 1\n",
      "2020-08-08 20:07:26,322 : INFO : EPOCH 29 - PROGRESS: at 17.89% examples, 478223 words/s, in_qsize 15, out_qsize 0\n",
      "2020-08-08 20:07:27,361 : INFO : EPOCH 29 - PROGRESS: at 24.39% examples, 487373 words/s, in_qsize 15, out_qsize 3\n",
      "2020-08-08 20:07:28,377 : INFO : EPOCH 29 - PROGRESS: at 30.56% examples, 489876 words/s, in_qsize 15, out_qsize 0\n",
      "2020-08-08 20:07:29,393 : INFO : EPOCH 29 - PROGRESS: at 36.18% examples, 484225 words/s, in_qsize 14, out_qsize 1\n",
      "2020-08-08 20:07:30,475 : INFO : EPOCH 29 - PROGRESS: at 42.13% examples, 479589 words/s, in_qsize 16, out_qsize 0\n",
      "2020-08-08 20:07:31,505 : INFO : EPOCH 29 - PROGRESS: at 48.73% examples, 485478 words/s, in_qsize 15, out_qsize 2\n",
      "2020-08-08 20:07:32,561 : INFO : EPOCH 29 - PROGRESS: at 55.53% examples, 490742 words/s, in_qsize 15, out_qsize 0\n",
      "2020-08-08 20:07:33,567 : INFO : EPOCH 29 - PROGRESS: at 61.93% examples, 493859 words/s, in_qsize 15, out_qsize 0\n",
      "2020-08-08 20:07:34,599 : INFO : EPOCH 29 - PROGRESS: at 67.77% examples, 491344 words/s, in_qsize 13, out_qsize 2\n",
      "2020-08-08 20:07:35,609 : INFO : EPOCH 29 - PROGRESS: at 74.16% examples, 493739 words/s, in_qsize 16, out_qsize 0\n",
      "2020-08-08 20:07:36,628 : INFO : EPOCH 29 - PROGRESS: at 80.58% examples, 495429 words/s, in_qsize 15, out_qsize 0\n",
      "2020-08-08 20:07:37,631 : INFO : EPOCH 29 - PROGRESS: at 87.07% examples, 498008 words/s, in_qsize 15, out_qsize 0\n",
      "2020-08-08 20:07:38,664 : INFO : EPOCH 29 - PROGRESS: at 92.94% examples, 495841 words/s, in_qsize 14, out_qsize 1\n",
      "2020-08-08 20:07:39,666 : INFO : EPOCH 29 - PROGRESS: at 99.33% examples, 497588 words/s, in_qsize 7, out_qsize 1\n",
      "2020-08-08 20:07:39,671 : INFO : worker thread finished; awaiting finish of 7 more threads\n",
      "2020-08-08 20:07:39,673 : INFO : worker thread finished; awaiting finish of 6 more threads\n",
      "2020-08-08 20:07:39,675 : INFO : worker thread finished; awaiting finish of 5 more threads\n",
      "2020-08-08 20:07:39,679 : INFO : worker thread finished; awaiting finish of 4 more threads\n",
      "2020-08-08 20:07:39,707 : INFO : worker thread finished; awaiting finish of 3 more threads\n",
      "2020-08-08 20:07:39,713 : INFO : worker thread finished; awaiting finish of 2 more threads\n",
      "2020-08-08 20:07:39,717 : INFO : worker thread finished; awaiting finish of 1 more threads\n",
      "2020-08-08 20:07:39,733 : INFO : worker thread finished; awaiting finish of 0 more threads\n",
      "2020-08-08 20:07:39,736 : INFO : EPOCH - 29 : training on 9227204 raw words (8223167 effective words) took 16.5s, 498782 effective words/s\n",
      "2020-08-08 20:07:40,798 : INFO : EPOCH 30 - PROGRESS: at 5.54% examples, 442611 words/s, in_qsize 13, out_qsize 2\n",
      "2020-08-08 20:07:41,824 : INFO : EPOCH 30 - PROGRESS: at 12.17% examples, 486241 words/s, in_qsize 15, out_qsize 0\n",
      "2020-08-08 20:07:42,860 : INFO : EPOCH 30 - PROGRESS: at 18.97% examples, 504587 words/s, in_qsize 14, out_qsize 1\n",
      "2020-08-08 20:07:43,882 : INFO : EPOCH 30 - PROGRESS: at 25.15% examples, 502786 words/s, in_qsize 15, out_qsize 0\n",
      "2020-08-08 20:07:44,898 : INFO : EPOCH 30 - PROGRESS: at 30.46% examples, 488270 words/s, in_qsize 14, out_qsize 6\n",
      "2020-08-08 20:07:45,900 : INFO : EPOCH 30 - PROGRESS: at 35.75% examples, 479656 words/s, in_qsize 15, out_qsize 0\n",
      "2020-08-08 20:07:46,915 : INFO : EPOCH 30 - PROGRESS: at 40.08% examples, 461425 words/s, in_qsize 15, out_qsize 0\n",
      "2020-08-08 20:07:47,945 : INFO : EPOCH 30 - PROGRESS: at 45.26% examples, 455517 words/s, in_qsize 14, out_qsize 1\n",
      "2020-08-08 20:07:49,033 : INFO : EPOCH 30 - PROGRESS: at 51.64% examples, 458819 words/s, in_qsize 15, out_qsize 0\n",
      "2020-08-08 20:07:50,062 : INFO : EPOCH 30 - PROGRESS: at 57.28% examples, 457923 words/s, in_qsize 15, out_qsize 1\n",
      "2020-08-08 20:07:51,075 : INFO : EPOCH 30 - PROGRESS: at 64.08% examples, 466523 words/s, in_qsize 14, out_qsize 1\n",
      "2020-08-08 20:07:52,078 : INFO : EPOCH 30 - PROGRESS: at 70.59% examples, 471967 words/s, in_qsize 15, out_qsize 0\n",
      "2020-08-08 20:07:53,082 : INFO : EPOCH 30 - PROGRESS: at 77.63% examples, 479863 words/s, in_qsize 15, out_qsize 0\n",
      "2020-08-08 20:07:54,085 : INFO : EPOCH 30 - PROGRESS: at 84.15% examples, 483574 words/s, in_qsize 15, out_qsize 0\n",
      "2020-08-08 20:07:55,089 : INFO : EPOCH 30 - PROGRESS: at 90.43% examples, 485569 words/s, in_qsize 16, out_qsize 0\n",
      "2020-08-08 20:07:56,105 : INFO : EPOCH 30 - PROGRESS: at 97.29% examples, 489718 words/s, in_qsize 14, out_qsize 1\n",
      "2020-08-08 20:07:56,372 : INFO : worker thread finished; awaiting finish of 7 more threads\n",
      "2020-08-08 20:07:56,375 : INFO : worker thread finished; awaiting finish of 6 more threads\n",
      "2020-08-08 20:07:56,381 : INFO : worker thread finished; awaiting finish of 5 more threads\n",
      "2020-08-08 20:07:56,386 : INFO : worker thread finished; awaiting finish of 4 more threads\n",
      "2020-08-08 20:07:56,394 : INFO : worker thread finished; awaiting finish of 3 more threads\n",
      "2020-08-08 20:07:56,410 : INFO : worker thread finished; awaiting finish of 2 more threads\n",
      "2020-08-08 20:07:56,426 : INFO : worker thread finished; awaiting finish of 1 more threads\n",
      "2020-08-08 20:07:56,429 : INFO : worker thread finished; awaiting finish of 0 more threads\n",
      "2020-08-08 20:07:56,432 : INFO : EPOCH - 30 : training on 9227204 raw words (8222806 effective words) took 16.7s, 493554 effective words/s\n",
      "2020-08-08 20:07:57,477 : INFO : EPOCH 31 - PROGRESS: at 6.19% examples, 499849 words/s, in_qsize 13, out_qsize 2\n",
      "2020-08-08 20:07:58,482 : INFO : EPOCH 31 - PROGRESS: at 12.82% examples, 520336 words/s, in_qsize 15, out_qsize 0\n",
      "2020-08-08 20:07:59,488 : INFO : EPOCH 31 - PROGRESS: at 19.08% examples, 517853 words/s, in_qsize 15, out_qsize 0\n",
      "2020-08-08 20:08:00,536 : INFO : EPOCH 31 - PROGRESS: at 24.50% examples, 494061 words/s, in_qsize 15, out_qsize 2\n",
      "2020-08-08 20:08:01,546 : INFO : EPOCH 31 - PROGRESS: at 30.02% examples, 485369 words/s, in_qsize 14, out_qsize 1\n",
      "2020-08-08 20:08:02,589 : INFO : EPOCH 31 - PROGRESS: at 35.32% examples, 473952 words/s, in_qsize 15, out_qsize 0\n",
      "2020-08-08 20:08:03,593 : INFO : EPOCH 31 - PROGRESS: at 41.92% examples, 483352 words/s, in_qsize 15, out_qsize 0\n",
      "2020-08-08 20:08:04,602 : INFO : EPOCH 31 - PROGRESS: at 48.40% examples, 489213 words/s, in_qsize 16, out_qsize 0\n",
      "2020-08-08 20:08:05,607 : INFO : EPOCH 31 - PROGRESS: at 54.67% examples, 491983 words/s, in_qsize 16, out_qsize 0\n",
      "2020-08-08 20:08:06,635 : INFO : EPOCH 31 - PROGRESS: at 60.85% examples, 492186 words/s, in_qsize 14, out_qsize 1\n",
      "2020-08-08 20:08:07,636 : INFO : EPOCH 31 - PROGRESS: at 67.88% examples, 499862 words/s, in_qsize 15, out_qsize 0\n",
      "2020-08-08 20:08:08,648 : INFO : EPOCH 31 - PROGRESS: at 73.62% examples, 497113 words/s, in_qsize 15, out_qsize 2\n",
      "2020-08-08 20:08:09,733 : INFO : EPOCH 31 - PROGRESS: at 79.81% examples, 494670 words/s, in_qsize 10, out_qsize 5\n",
      "2020-08-08 20:08:10,742 : INFO : EPOCH 31 - PROGRESS: at 86.09% examples, 495923 words/s, in_qsize 14, out_qsize 1\n",
      "2020-08-08 20:08:11,756 : INFO : EPOCH 31 - PROGRESS: at 92.94% examples, 499720 words/s, in_qsize 15, out_qsize 0\n",
      "2020-08-08 20:08:12,685 : INFO : worker thread finished; awaiting finish of 7 more threads\n",
      "2020-08-08 20:08:12,692 : INFO : worker thread finished; awaiting finish of 6 more threads\n",
      "2020-08-08 20:08:12,694 : INFO : worker thread finished; awaiting finish of 5 more threads\n",
      "2020-08-08 20:08:12,694 : INFO : worker thread finished; awaiting finish of 4 more threads\n",
      "2020-08-08 20:08:12,726 : INFO : worker thread finished; awaiting finish of 3 more threads\n",
      "2020-08-08 20:08:12,731 : INFO : worker thread finished; awaiting finish of 2 more threads\n",
      "2020-08-08 20:08:12,734 : INFO : worker thread finished; awaiting finish of 1 more threads\n",
      "2020-08-08 20:08:12,750 : INFO : worker thread finished; awaiting finish of 0 more threads\n"
     ]
    },
    {
     "name": "stderr",
     "output_type": "stream",
     "text": [
      "2020-08-08 20:08:12,753 : INFO : EPOCH - 31 : training on 9227204 raw words (8222702 effective words) took 16.3s, 504746 effective words/s\n",
      "2020-08-08 20:08:13,805 : INFO : EPOCH 32 - PROGRESS: at 6.19% examples, 491385 words/s, in_qsize 15, out_qsize 0\n",
      "2020-08-08 20:08:14,827 : INFO : EPOCH 32 - PROGRESS: at 12.71% examples, 507282 words/s, in_qsize 15, out_qsize 2\n",
      "2020-08-08 20:08:15,833 : INFO : EPOCH 32 - PROGRESS: at 19.62% examples, 526742 words/s, in_qsize 16, out_qsize 0\n",
      "2020-08-08 20:08:16,856 : INFO : EPOCH 32 - PROGRESS: at 24.72% examples, 497304 words/s, in_qsize 15, out_qsize 0\n",
      "2020-08-08 20:08:17,868 : INFO : EPOCH 32 - PROGRESS: at 30.02% examples, 484265 words/s, in_qsize 15, out_qsize 0\n",
      "2020-08-08 20:08:18,900 : INFO : EPOCH 32 - PROGRESS: at 35.75% examples, 479771 words/s, in_qsize 15, out_qsize 0\n",
      "2020-08-08 20:08:19,923 : INFO : EPOCH 32 - PROGRESS: at 41.81% examples, 480871 words/s, in_qsize 14, out_qsize 1\n",
      "2020-08-08 20:08:20,940 : INFO : EPOCH 32 - PROGRESS: at 47.86% examples, 482095 words/s, in_qsize 14, out_qsize 1\n",
      "2020-08-08 20:08:21,980 : INFO : EPOCH 32 - PROGRESS: at 54.03% examples, 482765 words/s, in_qsize 15, out_qsize 0\n",
      "2020-08-08 20:08:23,000 : INFO : EPOCH 32 - PROGRESS: at 60.74% examples, 488609 words/s, in_qsize 15, out_qsize 0\n",
      "2020-08-08 20:08:24,012 : INFO : EPOCH 32 - PROGRESS: at 67.23% examples, 492152 words/s, in_qsize 16, out_qsize 1\n",
      "2020-08-08 20:08:25,053 : INFO : EPOCH 32 - PROGRESS: at 74.16% examples, 496837 words/s, in_qsize 15, out_qsize 0\n",
      "2020-08-08 20:08:26,072 : INFO : EPOCH 32 - PROGRESS: at 81.01% examples, 500955 words/s, in_qsize 13, out_qsize 2\n",
      "2020-08-08 20:08:27,086 : INFO : EPOCH 32 - PROGRESS: at 88.37% examples, 507781 words/s, in_qsize 15, out_qsize 0\n",
      "2020-08-08 20:08:28,106 : INFO : EPOCH 32 - PROGRESS: at 95.12% examples, 509992 words/s, in_qsize 16, out_qsize 0\n",
      "2020-08-08 20:08:28,662 : INFO : worker thread finished; awaiting finish of 7 more threads\n",
      "2020-08-08 20:08:28,676 : INFO : worker thread finished; awaiting finish of 6 more threads\n",
      "2020-08-08 20:08:28,683 : INFO : worker thread finished; awaiting finish of 5 more threads\n",
      "2020-08-08 20:08:28,691 : INFO : worker thread finished; awaiting finish of 4 more threads\n",
      "2020-08-08 20:08:28,695 : INFO : worker thread finished; awaiting finish of 3 more threads\n",
      "2020-08-08 20:08:28,731 : INFO : worker thread finished; awaiting finish of 2 more threads\n",
      "2020-08-08 20:08:28,733 : INFO : worker thread finished; awaiting finish of 1 more threads\n",
      "2020-08-08 20:08:28,734 : INFO : worker thread finished; awaiting finish of 0 more threads\n",
      "2020-08-08 20:08:28,735 : INFO : EPOCH - 32 : training on 9227204 raw words (8221710 effective words) took 16.0s, 515057 effective words/s\n",
      "2020-08-08 20:08:28,736 : INFO : training on a 295270528 raw words (263123805 effective words) took 527.8s, 498553 effective words/s\n"
     ]
    },
    {
     "name": "stdout",
     "output_type": "stream",
     "text": [
      "Wall time: 8min 47s\n"
     ]
    },
    {
     "data": {
      "text/plain": [
       "(263123805, 295270528)"
      ]
     },
     "execution_count": 26,
     "metadata": {},
     "output_type": "execute_result"
    }
   ],
   "source": [
    "%%time\n",
    "w2v_model.train(documents, total_examples=len(documents), epochs=W2V_EPOCH)"
   ]
  },
  {
   "cell_type": "code",
   "execution_count": 27,
   "metadata": {},
   "outputs": [
    {
     "name": "stderr",
     "output_type": "stream",
     "text": [
      "C:\\Users\\DHAIRYA\\Anaconda3\\lib\\site-packages\\ipykernel_launcher.py:1: DeprecationWarning: Call to deprecated `most_similar` (Method will be removed in 4.0.0, use self.wv.most_similar() instead).\n",
      "  \"\"\"Entry point for launching an IPython kernel.\n",
      "2020-08-08 20:08:28,755 : INFO : precomputing L2-norms of word weight vectors\n"
     ]
    },
    {
     "data": {
      "text/plain": [
       "[('luv', 0.57975172996521),\n",
       " ('loves', 0.5669010281562805),\n",
       " ('loved', 0.539790689945221),\n",
       " ('adore', 0.5269957780838013),\n",
       " ('amazing', 0.5069565176963806),\n",
       " ('looove', 0.49437373876571655),\n",
       " ('loveee', 0.4676706790924072),\n",
       " ('awesome', 0.4652189612388611),\n",
       " ('loooove', 0.453708291053772),\n",
       " ('lovee', 0.44821420311927795)]"
      ]
     },
     "execution_count": 27,
     "metadata": {},
     "output_type": "execute_result"
    }
   ],
   "source": [
    "w2v_model.most_similar(\"love\")"
   ]
  },
  {
   "cell_type": "code",
   "execution_count": 28,
   "metadata": {},
   "outputs": [
    {
     "name": "stdout",
     "output_type": "stream",
     "text": [
      "Total words 290419\n",
      "Wall time: 42.2 s\n"
     ]
    }
   ],
   "source": [
    "%%time\n",
    "tokenizer = Tokenizer()\n",
    "tokenizer.fit_on_texts(df_train.text)\n",
    "\n",
    "vocab_size = len(tokenizer.word_index) + 1\n",
    "print(\"Total words\", vocab_size)"
   ]
  },
  {
   "cell_type": "code",
   "execution_count": 29,
   "metadata": {},
   "outputs": [
    {
     "name": "stdout",
     "output_type": "stream",
     "text": [
      "Wall time: 1min 14s\n"
     ]
    }
   ],
   "source": [
    "%%time\n",
    "x_train = pad_sequences(tokenizer.texts_to_sequences(df_train.text), maxlen=SEQUENCE_LENGTH)\n",
    "x_test = pad_sequences(tokenizer.texts_to_sequences(df_test.text), maxlen=SEQUENCE_LENGTH)"
   ]
  },
  {
   "cell_type": "code",
   "execution_count": 30,
   "metadata": {},
   "outputs": [
    {
     "data": {
      "text/plain": [
       "['POSITIVE', 'NEGATIVE', 'NEUTRAL']"
      ]
     },
     "execution_count": 30,
     "metadata": {},
     "output_type": "execute_result"
    }
   ],
   "source": [
    "labels = df_train.target.unique().tolist()\n",
    "labels.append(NEUTRAL)\n",
    "labels"
   ]
  },
  {
   "cell_type": "code",
   "execution_count": 31,
   "metadata": {},
   "outputs": [
    {
     "name": "stdout",
     "output_type": "stream",
     "text": [
      "y_train (1280000, 1)\n",
      "y_test (320000, 1)\n"
     ]
    }
   ],
   "source": [
    "encoder = LabelEncoder()\n",
    "encoder.fit(df_train.target.tolist())\n",
    "\n",
    "y_train = encoder.transform(df_train.target.tolist())\n",
    "y_test = encoder.transform(df_test.target.tolist())\n",
    "\n",
    "y_train = y_train.reshape(-1,1)\n",
    "y_test = y_test.reshape(-1,1)\n",
    "\n",
    "print(\"y_train\",y_train.shape)\n",
    "print(\"y_test\",y_test.shape)"
   ]
  },
  {
   "cell_type": "code",
   "execution_count": 32,
   "metadata": {},
   "outputs": [
    {
     "name": "stdout",
     "output_type": "stream",
     "text": [
      "x_train (1280000, 300)\n",
      "y_train (1280000, 1)\n",
      "\n",
      "x_test (320000, 300)\n",
      "y_test (320000, 1)\n"
     ]
    }
   ],
   "source": [
    "print(\"x_train\", x_train.shape)\n",
    "print(\"y_train\", y_train.shape)\n",
    "print()\n",
    "print(\"x_test\", x_test.shape)\n",
    "print(\"y_test\", y_test.shape)"
   ]
  },
  {
   "cell_type": "code",
   "execution_count": 33,
   "metadata": {},
   "outputs": [
    {
     "data": {
      "text/plain": [
       "array([[1],\n",
       "       [1],\n",
       "       [1],\n",
       "       [0],\n",
       "       [1],\n",
       "       [1],\n",
       "       [1],\n",
       "       [1],\n",
       "       [1],\n",
       "       [1]], dtype=int64)"
      ]
     },
     "execution_count": 33,
     "metadata": {},
     "output_type": "execute_result"
    }
   ],
   "source": [
    "y_train[:10]"
   ]
  },
  {
   "cell_type": "code",
   "execution_count": 34,
   "metadata": {},
   "outputs": [
    {
     "name": "stdout",
     "output_type": "stream",
     "text": [
      "(290419, 300)\n"
     ]
    }
   ],
   "source": [
    "embedding_matrix = np.zeros((vocab_size, W2V_SIZE))\n",
    "for word, i in tokenizer.word_index.items():\n",
    "  if word in w2v_model.wv:\n",
    "    embedding_matrix[i] = w2v_model.wv[word]\n",
    "print(embedding_matrix.shape)"
   ]
  },
  {
   "cell_type": "code",
   "execution_count": 36,
   "metadata": {},
   "outputs": [],
   "source": [
    "embedding_layer = Embedding(vocab_size, W2V_SIZE, weights=[embedding_matrix], input_length=SEQUENCE_LENGTH, trainable=False)"
   ]
  },
  {
   "cell_type": "code",
   "execution_count": 37,
   "metadata": {},
   "outputs": [
    {
     "name": "stdout",
     "output_type": "stream",
     "text": [
      "Model: \"sequential_2\"\n",
      "_________________________________________________________________\n",
      "Layer (type)                 Output Shape              Param #   \n",
      "=================================================================\n",
      "embedding_1 (Embedding)      (None, 300, 300)          87125700  \n",
      "_________________________________________________________________\n",
      "dropout_1 (Dropout)          (None, 300, 300)          0         \n",
      "_________________________________________________________________\n",
      "lstm_1 (LSTM)                (None, 100)               160400    \n",
      "_________________________________________________________________\n",
      "dense_1 (Dense)              (None, 1)                 101       \n",
      "=================================================================\n",
      "Total params: 87,286,201\n",
      "Trainable params: 160,501\n",
      "Non-trainable params: 87,125,700\n",
      "_________________________________________________________________\n"
     ]
    }
   ],
   "source": [
    "model = Sequential()\n",
    "model.add(embedding_layer)\n",
    "model.add(Dropout(0.5))\n",
    "model.add(LSTM(100, dropout=0.2, recurrent_dropout=0.2))\n",
    "model.add(Dense(1, activation='sigmoid'))\n",
    "\n",
    "model.summary()"
   ]
  },
  {
   "cell_type": "code",
   "execution_count": 39,
   "metadata": {},
   "outputs": [],
   "source": [
    "model.compile(loss='binary_crossentropy',\n",
    "              optimizer=\"adam\",\n",
    "              metrics=['accuracy'])"
   ]
  },
  {
   "cell_type": "code",
   "execution_count": 40,
   "metadata": {},
   "outputs": [],
   "source": [
    "callbacks = [ ReduceLROnPlateau(monitor='val_loss', patience=5, cooldown=0),\n",
    "              EarlyStopping(monitor='val_acc', min_delta=1e-4, patience=5)]"
   ]
  },
  {
   "cell_type": "code",
   "execution_count": 45,
   "metadata": {},
   "outputs": [
    {
     "name": "stdout",
     "output_type": "stream",
     "text": [
      "Train on 1152000 samples, validate on 128000 samples\n",
      "Epoch 1/1\n",
      "1152000/1152000 [==============================] - 13703s 12ms/step - loss: 0.5029 - accuracy: 0.7516 - val_loss: 0.4697 - val_accuracy: 0.7767\n",
      "Wall time: 3h 48min 23s\n"
     ]
    },
    {
     "name": "stderr",
     "output_type": "stream",
     "text": [
      "C:\\Users\\DHAIRYA\\Anaconda3\\lib\\site-packages\\keras\\callbacks\\callbacks.py:846: RuntimeWarning: Early stopping conditioned on metric `val_acc` which is not available. Available metrics are: val_loss,val_accuracy,loss,accuracy,lr\n",
      "  (self.monitor, ','.join(list(logs.keys()))), RuntimeWarning\n"
     ]
    }
   ],
   "source": [
    "%%time\n",
    "history = model.fit(x_train, y_train,\n",
    "                    batch_size=BATCH_SIZE,\n",
    "                    epochs=EPOCHS,\n",
    "                    validation_split=0.1,\n",
    "                    verbose=1,\n",
    "                    callbacks=callbacks)"
   ]
  },
  {
   "cell_type": "code",
   "execution_count": 46,
   "metadata": {},
   "outputs": [
    {
     "name": "stdout",
     "output_type": "stream",
     "text": [
      "320000/320000 [==============================] - 839s 3ms/step\n",
      "\n",
      "ACCURACY: 0.7770500183105469\n",
      "LOSS: 0.46808652911186216\n",
      "Wall time: 13min 59s\n"
     ]
    }
   ],
   "source": [
    "%%time\n",
    "score = model.evaluate(x_test, y_test, batch_size=BATCH_SIZE)\n",
    "print()\n",
    "print(\"ACCURACY:\",score[1])\n",
    "print(\"LOSS:\",score[0])"
   ]
  },
  {
   "cell_type": "code",
   "execution_count": 50,
   "metadata": {
    "_uuid": "40c72cd1e9d6c4fd799cbba7c813765ac4039dfc"
   },
   "outputs": [
    {
     "data": {
      "image/png": "[encoded data removed]",
      "text/plain": [
       "<Figure size 432x288 with 1 Axes>"
      ]
     },
     "metadata": {
      "needs_background": "light"
     },
     "output_type": "display_data"
    },
    {
     "data": {
      "image/png": "[encoded data removed]",
      "text/plain": [
       "<Figure size 432x288 with 1 Axes>"
      ]
     },
     "metadata": {
      "needs_background": "light"
     },
     "output_type": "display_data"
    }
   ],
   "source": [
    "acc = history.history['accuracy']\n",
    "val_acc = history.history['val_accuracy']\n",
    "loss = history.history['loss']\n",
    "val_loss = history.history['val_loss']\n",
    " \n",
    "epochs = range(len(acc))\n",
    " \n",
    "plt.plot(epochs, acc, 'b', label='Training acc')\n",
    "plt.plot(epochs, val_acc, 'r', label='Validation acc')\n",
    "plt.title('Training and validation accuracy')\n",
    "plt.legend()\n",
    " \n",
    "plt.figure()\n",
    " \n",
    "plt.plot(epochs, loss, 'b', label='Training loss')\n",
    "plt.plot(epochs, val_loss, 'r', label='Validation loss')\n",
    "plt.title('Training and validation loss')\n",
    "plt.legend()\n",
    " \n",
    "plt.show()"
   ]
  },
  {
   "cell_type": "code",
   "execution_count": 51,
   "metadata": {
    "_uuid": "f0b0fa3d4b1bb14b3f5e3d169a369f3ebef29ae1"
   },
   "outputs": [],
   "source": [
    "def decode_sentiment(score, include_neutral=True):\n",
    "    if include_neutral:        \n",
    "        label = NEUTRAL\n",
    "        if score <= SENTIMENT_THRESHOLDS[0]:\n",
    "            label = NEGATIVE\n",
    "        elif score >= SENTIMENT_THRESHOLDS[1]:\n",
    "            label = POSITIVE\n",
    "\n",
    "        return label\n",
    "    else:\n",
    "        return NEGATIVE if score < 0.5 else POSITIVE"
   ]
  },
  {
   "cell_type": "code",
   "execution_count": 52,
   "metadata": {
    "_uuid": "ed4086d651f2f8cbed11d3c909a8873607d29a06"
   },
   "outputs": [],
   "source": [
    "def predict(text, include_neutral=True):\n",
    "    start_at = time.time()\n",
    "    # Tokenize text\n",
    "    x_test = pad_sequences(tokenizer.texts_to_sequences([text]), maxlen=SEQUENCE_LENGTH)\n",
    "    # Predict\n",
    "    score = model.predict([x_test])[0]\n",
    "    # Decode sentiment\n",
    "    label = decode_sentiment(score, include_neutral=include_neutral)\n",
    "\n",
    "    return {\"label\": label, \"score\": float(score),\n",
    "       \"elapsed_time\": time.time()-start_at}  "
   ]
  },
  {
   "cell_type": "code",
   "execution_count": 53,
   "metadata": {
    "_uuid": "ca38b1e6c9b5acfed7467de2cf02a78333108872"
   },
   "outputs": [
    {
     "data": {
      "text/plain": [
       "{'label': 'POSITIVE',\n",
       " 'score': 0.9780962467193604,\n",
       " 'elapsed_time': 1.0709960460662842}"
      ]
     },
     "execution_count": 53,
     "metadata": {},
     "output_type": "execute_result"
    }
   ],
   "source": [
    "predict(\"I love the music\")"
   ]
  },
  {
   "cell_type": "code",
   "execution_count": 78,
   "metadata": {
    "_uuid": "0e5fe647533be0148850de349fea6ef6f71303d1"
   },
   "outputs": [
    {
     "data": {
      "text/plain": [
       "{'label': 'NEGATIVE',\n",
       " 'score': 0.01149654109030962,\n",
       " 'elapsed_time': 0.044879913330078125}"
      ]
     },
     "execution_count": 78,
     "metadata": {},
     "output_type": "execute_result"
    }
   ],
   "source": [
    "predict(\"I hate the rain\")"
   ]
  },
  {
   "cell_type": "code",
   "execution_count": 55,
   "metadata": {
    "_uuid": "37064dffcc8920d34ccd54fac7c8b50e583a8269"
   },
   "outputs": [
    {
     "data": {
      "text/plain": [
       "{'label': 'NEUTRAL',\n",
       " 'score': 0.4863792955875397,\n",
       " 'elapsed_time': 0.08693885803222656}"
      ]
     },
     "execution_count": 55,
     "metadata": {},
     "output_type": "execute_result"
    }
   ],
   "source": [
    "predict(\"i don't know what i'm doing\")"
   ]
  },
  {
   "cell_type": "code",
   "execution_count": 56,
   "metadata": {
    "_uuid": "0e920173eb05f04aecdd735bc5dff0f5be5f8d15"
   },
   "outputs": [
    {
     "name": "stdout",
     "output_type": "stream",
     "text": [
      "320000/320000 [==============================] - 1202s 4ms/step\n",
      "Wall time: 20min 6s\n"
     ]
    }
   ],
   "source": [
    "%%time\n",
    "y_pred_1d = []\n",
    "y_test_1d = list(df_test.target)\n",
    "scores = model.predict(x_test, verbose=1, batch_size=8000)\n",
    "y_pred_1d = [decode_sentiment(score, include_neutral=False) for score in scores]"
   ]
  },
  {
   "cell_type": "code",
   "execution_count": 57,
   "metadata": {
    "_uuid": "b3575191bb425ab871f3f41e83812ee84bb7e595"
   },
   "outputs": [],
   "source": [
    "def plot_confusion_matrix(cm, classes,\n",
    "                          title='Confusion matrix',\n",
    "                          cmap=plt.cm.Blues):\n",
    "    \"\"\"\n",
    "    This function prints and plots the confusion matrix.\n",
    "    Normalization can be applied by setting `normalize=True`.\n",
    "    \"\"\"\n",
    "\n",
    "    cm = cm.astype('float') / cm.sum(axis=1)[:, np.newaxis]\n",
    "\n",
    "    plt.imshow(cm, interpolation='nearest', cmap=cmap)\n",
    "    plt.title(title, fontsize=30)\n",
    "    plt.colorbar()\n",
    "    tick_marks = np.arange(len(classes))\n",
    "    plt.xticks(tick_marks, classes, rotation=90, fontsize=22)\n",
    "    plt.yticks(tick_marks, classes, fontsize=22)\n",
    "\n",
    "    fmt = '.2f'\n",
    "    thresh = cm.max() / 2.\n",
    "    for i, j in itertools.product(range(cm.shape[0]), range(cm.shape[1])):\n",
    "        plt.text(j, i, format(cm[i, j], fmt),\n",
    "                 horizontalalignment=\"center\",\n",
    "                 color=\"white\" if cm[i, j] > thresh else \"black\")\n",
    "\n",
    "    plt.ylabel('True label', fontsize=25)\n",
    "    plt.xlabel('Predicted label', fontsize=25)"
   ]
  },
  {
   "cell_type": "code",
   "execution_count": 58,
   "metadata": {
    "_uuid": "a57dc6f6211c144491a70f533225edfa95a2dc66"
   },
   "outputs": [
    {
     "data": {
      "image/png": "[encoded data removed]",
      "text/plain": [
       "<Figure size 864x864 with 2 Axes>"
      ]
     },
     "metadata": {
      "needs_background": "light"
     },
     "output_type": "display_data"
    },
    {
     "name": "stdout",
     "output_type": "stream",
     "text": [
      "Wall time: 7.14 s\n"
     ]
    }
   ],
   "source": [
    "%%time\n",
    "\n",
    "cnf_matrix = confusion_matrix(y_test_1d, y_pred_1d)\n",
    "plt.figure(figsize=(12,12))\n",
    "plot_confusion_matrix(cnf_matrix, classes=df_train.target.unique(), title=\"Confusion matrix\")\n",
    "plt.show()"
   ]
  },
  {
   "cell_type": "code",
   "execution_count": 59,
   "metadata": {
    "_uuid": "a7fe05b7caa1c984ff1deb0be2f7c6bc043df9f5"
   },
   "outputs": [
    {
     "name": "stdout",
     "output_type": "stream",
     "text": [
      "              precision    recall  f1-score   support\n",
      "\n",
      "    NEGATIVE       0.78      0.76      0.77    159494\n",
      "    POSITIVE       0.77      0.79      0.78    160506\n",
      "\n",
      "    accuracy                           0.78    320000\n",
      "   macro avg       0.78      0.78      0.78    320000\n",
      "weighted avg       0.78      0.78      0.78    320000\n",
      "\n"
     ]
    }
   ],
   "source": [
    "print(classification_report(y_test_1d, y_pred_1d))"
   ]
  },
  {
   "cell_type": "code",
   "execution_count": 60,
   "metadata": {
    "_uuid": "5cf76e6e09f8a60ed25947932b94c772eda44d23"
   },
   "outputs": [
    {
     "data": {
      "text/plain": [
       "0.77705"
      ]
     },
     "execution_count": 60,
     "metadata": {},
     "output_type": "execute_result"
    }
   ],
   "source": [
    "accuracy_score(y_test_1d, y_pred_1d)"
   ]
  },
  {
   "cell_type": "code",
   "execution_count": 81,
   "metadata": {
    "_uuid": "3b2b3ad5b592977b404acfa1c9ad303a62837255"
   },
   "outputs": [
    {
     "ename": "AttributeError",
     "evalue": "module 'keras.optimizers' has no attribute 'TFOptimizer'",
     "output_type": "error",
     "traceback": [
      "\u001b[1;31m---------------------------------------------------------------------------\u001b[0m",
      "\u001b[1;31mAttributeError\u001b[0m                            Traceback (most recent call last)",
      "\u001b[1;32m<ipython-input-81-390873ce0197>\u001b[0m in \u001b[0;36m<module>\u001b[1;34m\u001b[0m\n\u001b[1;32m----> 1\u001b[1;33m \u001b[0mmodel\u001b[0m\u001b[1;33m.\u001b[0m\u001b[0msave\u001b[0m\u001b[1;33m(\u001b[0m\u001b[1;34m'model'\u001b[0m\u001b[1;33m)\u001b[0m\u001b[1;33m\u001b[0m\u001b[1;33m\u001b[0m\u001b[0m\n\u001b[0m\u001b[0;32m      2\u001b[0m \u001b[0mw2v_model\u001b[0m\u001b[1;33m.\u001b[0m\u001b[0msave\u001b[0m\u001b[1;33m(\u001b[0m\u001b[0mWORD2VEC_MODEL\u001b[0m\u001b[1;33m)\u001b[0m\u001b[1;33m\u001b[0m\u001b[1;33m\u001b[0m\u001b[0m\n\u001b[0;32m      3\u001b[0m \u001b[0mpickle\u001b[0m\u001b[1;33m.\u001b[0m\u001b[0mdump\u001b[0m\u001b[1;33m(\u001b[0m\u001b[0mtokenizer\u001b[0m\u001b[1;33m,\u001b[0m \u001b[0mopen\u001b[0m\u001b[1;33m(\u001b[0m\u001b[0mTOKENIZER_MODEL\u001b[0m\u001b[1;33m,\u001b[0m \u001b[1;34m\"wb\"\u001b[0m\u001b[1;33m)\u001b[0m\u001b[1;33m,\u001b[0m \u001b[0mprotocol\u001b[0m\u001b[1;33m=\u001b[0m\u001b[1;36m0\u001b[0m\u001b[1;33m)\u001b[0m\u001b[1;33m\u001b[0m\u001b[1;33m\u001b[0m\u001b[0m\n\u001b[0;32m      4\u001b[0m \u001b[0mpickle\u001b[0m\u001b[1;33m.\u001b[0m\u001b[0mdump\u001b[0m\u001b[1;33m(\u001b[0m\u001b[0mencoder\u001b[0m\u001b[1;33m,\u001b[0m \u001b[0mopen\u001b[0m\u001b[1;33m(\u001b[0m\u001b[0mENCODER_MODEL\u001b[0m\u001b[1;33m,\u001b[0m \u001b[1;34m\"wb\"\u001b[0m\u001b[1;33m)\u001b[0m\u001b[1;33m,\u001b[0m \u001b[0mprotocol\u001b[0m\u001b[1;33m=\u001b[0m\u001b[1;36m0\u001b[0m\u001b[1;33m)\u001b[0m\u001b[1;33m\u001b[0m\u001b[1;33m\u001b[0m\u001b[0m\n",
      "\u001b[1;32m~\\Anaconda3\\lib\\site-packages\\keras\\engine\\network.py\u001b[0m in \u001b[0;36msave\u001b[1;34m(self, filepath, overwrite, include_optimizer)\u001b[0m\n\u001b[0;32m   1150\u001b[0m             \u001b[1;32mraise\u001b[0m \u001b[0mNotImplementedError\u001b[0m\u001b[1;33m\u001b[0m\u001b[1;33m\u001b[0m\u001b[0m\n\u001b[0;32m   1151\u001b[0m         \u001b[1;32mfrom\u001b[0m \u001b[1;33m.\u001b[0m\u001b[1;33m.\u001b[0m\u001b[0mmodels\u001b[0m \u001b[1;32mimport\u001b[0m \u001b[0msave_model\u001b[0m\u001b[1;33m\u001b[0m\u001b[1;33m\u001b[0m\u001b[0m\n\u001b[1;32m-> 1152\u001b[1;33m         \u001b[0msave_model\u001b[0m\u001b[1;33m(\u001b[0m\u001b[0mself\u001b[0m\u001b[1;33m,\u001b[0m \u001b[0mfilepath\u001b[0m\u001b[1;33m,\u001b[0m \u001b[0moverwrite\u001b[0m\u001b[1;33m,\u001b[0m \u001b[0minclude_optimizer\u001b[0m\u001b[1;33m)\u001b[0m\u001b[1;33m\u001b[0m\u001b[1;33m\u001b[0m\u001b[0m\n\u001b[0m\u001b[0;32m   1153\u001b[0m \u001b[1;33m\u001b[0m\u001b[0m\n\u001b[0;32m   1154\u001b[0m     \u001b[1;33m@\u001b[0m\u001b[0msaving\u001b[0m\u001b[1;33m.\u001b[0m\u001b[0mallow_write_to_gcs\u001b[0m\u001b[1;33m\u001b[0m\u001b[1;33m\u001b[0m\u001b[0m\n",
      "\u001b[1;32m~\\Anaconda3\\lib\\site-packages\\keras\\engine\\saving.py\u001b[0m in \u001b[0;36msave_wrapper\u001b[1;34m(obj, filepath, overwrite, *args, **kwargs)\u001b[0m\n\u001b[0;32m    447\u001b[0m                 \u001b[0mos\u001b[0m\u001b[1;33m.\u001b[0m\u001b[0mremove\u001b[0m\u001b[1;33m(\u001b[0m\u001b[0mtmp_filepath\u001b[0m\u001b[1;33m)\u001b[0m\u001b[1;33m\u001b[0m\u001b[1;33m\u001b[0m\u001b[0m\n\u001b[0;32m    448\u001b[0m         \u001b[1;32melse\u001b[0m\u001b[1;33m:\u001b[0m\u001b[1;33m\u001b[0m\u001b[1;33m\u001b[0m\u001b[0m\n\u001b[1;32m--> 449\u001b[1;33m             \u001b[0msave_function\u001b[0m\u001b[1;33m(\u001b[0m\u001b[0mobj\u001b[0m\u001b[1;33m,\u001b[0m \u001b[0mfilepath\u001b[0m\u001b[1;33m,\u001b[0m \u001b[0moverwrite\u001b[0m\u001b[1;33m,\u001b[0m \u001b[1;33m*\u001b[0m\u001b[0margs\u001b[0m\u001b[1;33m,\u001b[0m \u001b[1;33m**\u001b[0m\u001b[0mkwargs\u001b[0m\u001b[1;33m)\u001b[0m\u001b[1;33m\u001b[0m\u001b[1;33m\u001b[0m\u001b[0m\n\u001b[0m\u001b[0;32m    450\u001b[0m \u001b[1;33m\u001b[0m\u001b[0m\n\u001b[0;32m    451\u001b[0m     \u001b[1;32mreturn\u001b[0m \u001b[0msave_wrapper\u001b[0m\u001b[1;33m\u001b[0m\u001b[1;33m\u001b[0m\u001b[0m\n",
      "\u001b[1;32m~\\Anaconda3\\lib\\site-packages\\keras\\engine\\saving.py\u001b[0m in \u001b[0;36msave_model\u001b[1;34m(model, filepath, overwrite, include_optimizer)\u001b[0m\n\u001b[0;32m    539\u001b[0m                 \u001b[1;32mreturn\u001b[0m\u001b[1;33m\u001b[0m\u001b[1;33m\u001b[0m\u001b[0m\n\u001b[0;32m    540\u001b[0m         \u001b[1;32mwith\u001b[0m \u001b[0mH5Dict\u001b[0m\u001b[1;33m(\u001b[0m\u001b[0mfilepath\u001b[0m\u001b[1;33m,\u001b[0m \u001b[0mmode\u001b[0m\u001b[1;33m=\u001b[0m\u001b[1;34m'w'\u001b[0m\u001b[1;33m)\u001b[0m \u001b[1;32mas\u001b[0m \u001b[0mh5dict\u001b[0m\u001b[1;33m:\u001b[0m\u001b[1;33m\u001b[0m\u001b[1;33m\u001b[0m\u001b[0m\n\u001b[1;32m--> 541\u001b[1;33m             \u001b[0m_serialize_model\u001b[0m\u001b[1;33m(\u001b[0m\u001b[0mmodel\u001b[0m\u001b[1;33m,\u001b[0m \u001b[0mh5dict\u001b[0m\u001b[1;33m,\u001b[0m \u001b[0minclude_optimizer\u001b[0m\u001b[1;33m)\u001b[0m\u001b[1;33m\u001b[0m\u001b[1;33m\u001b[0m\u001b[0m\n\u001b[0m\u001b[0;32m    542\u001b[0m     \u001b[1;32melif\u001b[0m \u001b[0mhasattr\u001b[0m\u001b[1;33m(\u001b[0m\u001b[0mfilepath\u001b[0m\u001b[1;33m,\u001b[0m \u001b[1;34m'write'\u001b[0m\u001b[1;33m)\u001b[0m \u001b[1;32mand\u001b[0m \u001b[0mcallable\u001b[0m\u001b[1;33m(\u001b[0m\u001b[0mfilepath\u001b[0m\u001b[1;33m.\u001b[0m\u001b[0mwrite\u001b[0m\u001b[1;33m)\u001b[0m\u001b[1;33m:\u001b[0m\u001b[1;33m\u001b[0m\u001b[1;33m\u001b[0m\u001b[0m\n\u001b[0;32m    543\u001b[0m         \u001b[1;31m# write as binary stream\u001b[0m\u001b[1;33m\u001b[0m\u001b[1;33m\u001b[0m\u001b[1;33m\u001b[0m\u001b[0m\n",
      "\u001b[1;32m~\\Anaconda3\\lib\\site-packages\\keras\\engine\\saving.py\u001b[0m in \u001b[0;36m_serialize_model\u001b[1;34m(model, h5dict, include_optimizer)\u001b[0m\n\u001b[0;32m    161\u001b[0m             \u001b[0mlayer_group\u001b[0m\u001b[1;33m[\u001b[0m\u001b[0mname\u001b[0m\u001b[1;33m]\u001b[0m \u001b[1;33m=\u001b[0m \u001b[0mval\u001b[0m\u001b[1;33m\u001b[0m\u001b[1;33m\u001b[0m\u001b[0m\n\u001b[0;32m    162\u001b[0m     \u001b[1;32mif\u001b[0m \u001b[0minclude_optimizer\u001b[0m \u001b[1;32mand\u001b[0m \u001b[0mmodel\u001b[0m\u001b[1;33m.\u001b[0m\u001b[0moptimizer\u001b[0m\u001b[1;33m:\u001b[0m\u001b[1;33m\u001b[0m\u001b[1;33m\u001b[0m\u001b[0m\n\u001b[1;32m--> 163\u001b[1;33m         \u001b[1;32mif\u001b[0m \u001b[0misinstance\u001b[0m\u001b[1;33m(\u001b[0m\u001b[0mmodel\u001b[0m\u001b[1;33m.\u001b[0m\u001b[0moptimizer\u001b[0m\u001b[1;33m,\u001b[0m \u001b[0moptimizers\u001b[0m\u001b[1;33m.\u001b[0m\u001b[0mTFOptimizer\u001b[0m\u001b[1;33m)\u001b[0m\u001b[1;33m:\u001b[0m\u001b[1;33m\u001b[0m\u001b[1;33m\u001b[0m\u001b[0m\n\u001b[0m\u001b[0;32m    164\u001b[0m             warnings.warn(\n\u001b[0;32m    165\u001b[0m                 \u001b[1;34m'TensorFlow optimizers do not '\u001b[0m\u001b[1;33m\u001b[0m\u001b[1;33m\u001b[0m\u001b[0m\n",
      "\u001b[1;31mAttributeError\u001b[0m: module 'keras.optimizers' has no attribute 'TFOptimizer'"
     ]
    }
   ],
   "source": [
    "model.save('model')\n",
    "w2v_model.save(WORD2VEC_MODEL)\n",
    "pickle.dump(tokenizer, open(TOKENIZER_MODEL, \"wb\"), protocol=0)\n",
    "pickle.dump(encoder, open(ENCODER_MODEL, \"wb\"), protocol=0)"
   ]
  },
  {
   "cell_type": "code",
   "execution_count": 80,
   "metadata": {
    "_uuid": "cc363c54782894757f5ea8820c6a170f2e16ef93"
   },
   "outputs": [
    {
     "name": "stderr",
     "output_type": "stream",
     "text": [
      "2020-08-09 01:43:42,132 : INFO : saving Word2Vec object under w2v.h5, separately None\n",
      "2020-08-09 01:43:42,134 : INFO : not storing attribute vectors_norm\n",
      "2020-08-09 01:43:42,135 : INFO : not storing attribute cum_table\n",
      "2020-08-09 01:43:44,209 : INFO : saved w2v.h5\n"
     ]
    }
   ],
   "source": [
    "w2v_model.save('w2v.h5')\n",
    "pickle.dump(tokenizer, open(TOKENIZER_MODEL, \"wb\"), protocol=0)\n",
    "pickle.dump(encoder, open(ENCODER_MODEL, \"wb\"), protocol=0)"
   ]
  },
  {
   "cell_type": "code",
   "execution_count": null,
   "metadata": {},
   "outputs": [],
   "source": []
  }
 ],
 "metadata": {
  "kernelspec": {
   "display_name": "Python 3",
   "language": "python",
   "name": "python3"
  },
  "language_info": {
   "codemirror_mode": {
    "name": "ipython",
    "version": 3
   },
   "file_extension": ".py",
   "mimetype": "text/x-python",
   "name": "python",
   "nbconvert_exporter": "python",
   "pygments_lexer": "ipython3",
   "version": "3.6.10"
  }
 },
 "nbformat": 4,
 "nbformat_minor": 4
}
